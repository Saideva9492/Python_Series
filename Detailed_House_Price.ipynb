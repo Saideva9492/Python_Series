{
 "cells": [
  {
   "cell_type": "markdown",
   "id": "2200ba68",
   "metadata": {},
   "source": [
    "# House Price Analysis\n",
    "This notebook analyzes the house price dataset to understand the factors affecting house prices and to build a predictive model."
   ]
  },
  {
   "cell_type": "markdown",
   "id": "bd06b589",
   "metadata": {},
   "source": [
    "## Dataset Description\n",
    "The dataset contains information about various houses, including the number of bedrooms, number of bathrooms, living area, lot area, number of floors, presence of waterfront, number of views, condition, grade, area excluding basement, basement area, year built, year renovated, postal code, latitude, longitude, living area renovation, lot area renovation, number of schools nearby, distance from the airport, and the price of the house.\n",
    "\n",
    "### Columns\n",
    "- `id`: Unique ID for each house\n",
    "- `Date`: Date of the sale\n",
    "- `number of bedrooms`: Number of bedrooms\n",
    "- `number of bathrooms`: Number of bathrooms\n",
    "- `living area`: Living area in square feet\n",
    "- `lot area`: Lot area in square feet\n",
    "- `number of floors`: Number of floors\n",
    "- `waterfront present`: Presence of a waterfront\n",
    "- `number of views`: Number of views\n",
    "- `condition of the house`: Condition of the house\n",
    "- `grade of the house`: Grade of the house\n",
    "- `Area of the house(excluding basement)`: Area of the house excluding basement in square feet\n",
    "- `Area of the basement`: Area of the basement in square feet\n",
    "- `Built Year`: Year the house was built\n",
    "- `Renovation Year`: Year the house was renovated\n",
    "- `Postal Code`: Postal code of the house\n",
    "- `Lattitude`: Latitude of the house location\n",
    "- `Longitude`: Longitude of the house location\n",
    "- `living_area_renov`: Renovated living area in square feet\n",
    "- `lot_area_renov`: Renovated lot area in square feet\n",
    "- `Number of schools nearby`: Number of schools nearby\n",
    "- `Distance from the airport`: Distance from the airport\n",
    "- `Price`: Price of the house"
   ]
  },
  {
   "cell_type": "markdown",
   "id": "11647dda",
   "metadata": {},
   "source": [
    "## Problem Statement\n",
    "The main objective of this analysis is to understand the factors that influence house prices and to build a predictive model that can estimate the price of a house based on its features."
   ]
  },
  {
   "cell_type": "markdown",
   "id": "9ddc8dcd",
   "metadata": {},
   "source": [
    "## Feature Importance\n",
    "Identifying which features are most important in predicting house prices will help in building a more accurate model. We will use feature selection techniques and correlation analysis to determine the most significant features."
   ]
  },
  {
   "cell_type": "markdown",
   "id": "d9c661cb",
   "metadata": {},
   "source": [
    "## Import Libraries and Load Dataset\n",
    "In this step, we import the necessary libraries and load the dataset."
   ]
  },
  {
   "cell_type": "code",
   "execution_count": 1,
   "id": "b0b926e7",
   "metadata": {},
   "outputs": [
    {
     "ename": "FileNotFoundError",
     "evalue": "[Errno 2] No such file or directory: '/path/to/your/dataset.csv'",
     "output_type": "error",
     "traceback": [
      "\u001b[1;31m---------------------------------------------------------------------------\u001b[0m",
      "\u001b[1;31mFileNotFoundError\u001b[0m                         Traceback (most recent call last)",
      "Cell \u001b[1;32mIn[1], line 9\u001b[0m\n\u001b[0;32m      6\u001b[0m warnings\u001b[38;5;241m.\u001b[39mfilterwarnings(\u001b[38;5;124m'\u001b[39m\u001b[38;5;124mignore\u001b[39m\u001b[38;5;124m'\u001b[39m)\n\u001b[0;32m      8\u001b[0m \u001b[38;5;66;03m# Load the dataset\u001b[39;00m\n\u001b[1;32m----> 9\u001b[0m df \u001b[38;5;241m=\u001b[39m \u001b[43mpd\u001b[49m\u001b[38;5;241;43m.\u001b[39;49m\u001b[43mread_csv\u001b[49m\u001b[43m(\u001b[49m\u001b[38;5;124;43m'\u001b[39;49m\u001b[38;5;124;43m/path/to/your/dataset.csv\u001b[39;49m\u001b[38;5;124;43m'\u001b[39;49m\u001b[43m)\u001b[49m\n\u001b[0;32m     11\u001b[0m \u001b[38;5;66;03m# Display the first few rows of the dataset\u001b[39;00m\n\u001b[0;32m     12\u001b[0m df\u001b[38;5;241m.\u001b[39mhead()\n",
      "File \u001b[1;32m~\\AppData\\Local\\Programs\\Python\\Python312\\Lib\\site-packages\\pandas\\io\\parsers\\readers.py:1026\u001b[0m, in \u001b[0;36mread_csv\u001b[1;34m(filepath_or_buffer, sep, delimiter, header, names, index_col, usecols, dtype, engine, converters, true_values, false_values, skipinitialspace, skiprows, skipfooter, nrows, na_values, keep_default_na, na_filter, verbose, skip_blank_lines, parse_dates, infer_datetime_format, keep_date_col, date_parser, date_format, dayfirst, cache_dates, iterator, chunksize, compression, thousands, decimal, lineterminator, quotechar, quoting, doublequote, escapechar, comment, encoding, encoding_errors, dialect, on_bad_lines, delim_whitespace, low_memory, memory_map, float_precision, storage_options, dtype_backend)\u001b[0m\n\u001b[0;32m   1013\u001b[0m kwds_defaults \u001b[38;5;241m=\u001b[39m _refine_defaults_read(\n\u001b[0;32m   1014\u001b[0m     dialect,\n\u001b[0;32m   1015\u001b[0m     delimiter,\n\u001b[1;32m   (...)\u001b[0m\n\u001b[0;32m   1022\u001b[0m     dtype_backend\u001b[38;5;241m=\u001b[39mdtype_backend,\n\u001b[0;32m   1023\u001b[0m )\n\u001b[0;32m   1024\u001b[0m kwds\u001b[38;5;241m.\u001b[39mupdate(kwds_defaults)\n\u001b[1;32m-> 1026\u001b[0m \u001b[38;5;28;01mreturn\u001b[39;00m \u001b[43m_read\u001b[49m\u001b[43m(\u001b[49m\u001b[43mfilepath_or_buffer\u001b[49m\u001b[43m,\u001b[49m\u001b[43m \u001b[49m\u001b[43mkwds\u001b[49m\u001b[43m)\u001b[49m\n",
      "File \u001b[1;32m~\\AppData\\Local\\Programs\\Python\\Python312\\Lib\\site-packages\\pandas\\io\\parsers\\readers.py:620\u001b[0m, in \u001b[0;36m_read\u001b[1;34m(filepath_or_buffer, kwds)\u001b[0m\n\u001b[0;32m    617\u001b[0m _validate_names(kwds\u001b[38;5;241m.\u001b[39mget(\u001b[38;5;124m\"\u001b[39m\u001b[38;5;124mnames\u001b[39m\u001b[38;5;124m\"\u001b[39m, \u001b[38;5;28;01mNone\u001b[39;00m))\n\u001b[0;32m    619\u001b[0m \u001b[38;5;66;03m# Create the parser.\u001b[39;00m\n\u001b[1;32m--> 620\u001b[0m parser \u001b[38;5;241m=\u001b[39m \u001b[43mTextFileReader\u001b[49m\u001b[43m(\u001b[49m\u001b[43mfilepath_or_buffer\u001b[49m\u001b[43m,\u001b[49m\u001b[43m \u001b[49m\u001b[38;5;241;43m*\u001b[39;49m\u001b[38;5;241;43m*\u001b[39;49m\u001b[43mkwds\u001b[49m\u001b[43m)\u001b[49m\n\u001b[0;32m    622\u001b[0m \u001b[38;5;28;01mif\u001b[39;00m chunksize \u001b[38;5;129;01mor\u001b[39;00m iterator:\n\u001b[0;32m    623\u001b[0m     \u001b[38;5;28;01mreturn\u001b[39;00m parser\n",
      "File \u001b[1;32m~\\AppData\\Local\\Programs\\Python\\Python312\\Lib\\site-packages\\pandas\\io\\parsers\\readers.py:1620\u001b[0m, in \u001b[0;36mTextFileReader.__init__\u001b[1;34m(self, f, engine, **kwds)\u001b[0m\n\u001b[0;32m   1617\u001b[0m     \u001b[38;5;28mself\u001b[39m\u001b[38;5;241m.\u001b[39moptions[\u001b[38;5;124m\"\u001b[39m\u001b[38;5;124mhas_index_names\u001b[39m\u001b[38;5;124m\"\u001b[39m] \u001b[38;5;241m=\u001b[39m kwds[\u001b[38;5;124m\"\u001b[39m\u001b[38;5;124mhas_index_names\u001b[39m\u001b[38;5;124m\"\u001b[39m]\n\u001b[0;32m   1619\u001b[0m \u001b[38;5;28mself\u001b[39m\u001b[38;5;241m.\u001b[39mhandles: IOHandles \u001b[38;5;241m|\u001b[39m \u001b[38;5;28;01mNone\u001b[39;00m \u001b[38;5;241m=\u001b[39m \u001b[38;5;28;01mNone\u001b[39;00m\n\u001b[1;32m-> 1620\u001b[0m \u001b[38;5;28mself\u001b[39m\u001b[38;5;241m.\u001b[39m_engine \u001b[38;5;241m=\u001b[39m \u001b[38;5;28;43mself\u001b[39;49m\u001b[38;5;241;43m.\u001b[39;49m\u001b[43m_make_engine\u001b[49m\u001b[43m(\u001b[49m\u001b[43mf\u001b[49m\u001b[43m,\u001b[49m\u001b[43m \u001b[49m\u001b[38;5;28;43mself\u001b[39;49m\u001b[38;5;241;43m.\u001b[39;49m\u001b[43mengine\u001b[49m\u001b[43m)\u001b[49m\n",
      "File \u001b[1;32m~\\AppData\\Local\\Programs\\Python\\Python312\\Lib\\site-packages\\pandas\\io\\parsers\\readers.py:1880\u001b[0m, in \u001b[0;36mTextFileReader._make_engine\u001b[1;34m(self, f, engine)\u001b[0m\n\u001b[0;32m   1878\u001b[0m     \u001b[38;5;28;01mif\u001b[39;00m \u001b[38;5;124m\"\u001b[39m\u001b[38;5;124mb\u001b[39m\u001b[38;5;124m\"\u001b[39m \u001b[38;5;129;01mnot\u001b[39;00m \u001b[38;5;129;01min\u001b[39;00m mode:\n\u001b[0;32m   1879\u001b[0m         mode \u001b[38;5;241m+\u001b[39m\u001b[38;5;241m=\u001b[39m \u001b[38;5;124m\"\u001b[39m\u001b[38;5;124mb\u001b[39m\u001b[38;5;124m\"\u001b[39m\n\u001b[1;32m-> 1880\u001b[0m \u001b[38;5;28mself\u001b[39m\u001b[38;5;241m.\u001b[39mhandles \u001b[38;5;241m=\u001b[39m \u001b[43mget_handle\u001b[49m\u001b[43m(\u001b[49m\n\u001b[0;32m   1881\u001b[0m \u001b[43m    \u001b[49m\u001b[43mf\u001b[49m\u001b[43m,\u001b[49m\n\u001b[0;32m   1882\u001b[0m \u001b[43m    \u001b[49m\u001b[43mmode\u001b[49m\u001b[43m,\u001b[49m\n\u001b[0;32m   1883\u001b[0m \u001b[43m    \u001b[49m\u001b[43mencoding\u001b[49m\u001b[38;5;241;43m=\u001b[39;49m\u001b[38;5;28;43mself\u001b[39;49m\u001b[38;5;241;43m.\u001b[39;49m\u001b[43moptions\u001b[49m\u001b[38;5;241;43m.\u001b[39;49m\u001b[43mget\u001b[49m\u001b[43m(\u001b[49m\u001b[38;5;124;43m\"\u001b[39;49m\u001b[38;5;124;43mencoding\u001b[39;49m\u001b[38;5;124;43m\"\u001b[39;49m\u001b[43m,\u001b[49m\u001b[43m \u001b[49m\u001b[38;5;28;43;01mNone\u001b[39;49;00m\u001b[43m)\u001b[49m\u001b[43m,\u001b[49m\n\u001b[0;32m   1884\u001b[0m \u001b[43m    \u001b[49m\u001b[43mcompression\u001b[49m\u001b[38;5;241;43m=\u001b[39;49m\u001b[38;5;28;43mself\u001b[39;49m\u001b[38;5;241;43m.\u001b[39;49m\u001b[43moptions\u001b[49m\u001b[38;5;241;43m.\u001b[39;49m\u001b[43mget\u001b[49m\u001b[43m(\u001b[49m\u001b[38;5;124;43m\"\u001b[39;49m\u001b[38;5;124;43mcompression\u001b[39;49m\u001b[38;5;124;43m\"\u001b[39;49m\u001b[43m,\u001b[49m\u001b[43m \u001b[49m\u001b[38;5;28;43;01mNone\u001b[39;49;00m\u001b[43m)\u001b[49m\u001b[43m,\u001b[49m\n\u001b[0;32m   1885\u001b[0m \u001b[43m    \u001b[49m\u001b[43mmemory_map\u001b[49m\u001b[38;5;241;43m=\u001b[39;49m\u001b[38;5;28;43mself\u001b[39;49m\u001b[38;5;241;43m.\u001b[39;49m\u001b[43moptions\u001b[49m\u001b[38;5;241;43m.\u001b[39;49m\u001b[43mget\u001b[49m\u001b[43m(\u001b[49m\u001b[38;5;124;43m\"\u001b[39;49m\u001b[38;5;124;43mmemory_map\u001b[39;49m\u001b[38;5;124;43m\"\u001b[39;49m\u001b[43m,\u001b[49m\u001b[43m \u001b[49m\u001b[38;5;28;43;01mFalse\u001b[39;49;00m\u001b[43m)\u001b[49m\u001b[43m,\u001b[49m\n\u001b[0;32m   1886\u001b[0m \u001b[43m    \u001b[49m\u001b[43mis_text\u001b[49m\u001b[38;5;241;43m=\u001b[39;49m\u001b[43mis_text\u001b[49m\u001b[43m,\u001b[49m\n\u001b[0;32m   1887\u001b[0m \u001b[43m    \u001b[49m\u001b[43merrors\u001b[49m\u001b[38;5;241;43m=\u001b[39;49m\u001b[38;5;28;43mself\u001b[39;49m\u001b[38;5;241;43m.\u001b[39;49m\u001b[43moptions\u001b[49m\u001b[38;5;241;43m.\u001b[39;49m\u001b[43mget\u001b[49m\u001b[43m(\u001b[49m\u001b[38;5;124;43m\"\u001b[39;49m\u001b[38;5;124;43mencoding_errors\u001b[39;49m\u001b[38;5;124;43m\"\u001b[39;49m\u001b[43m,\u001b[49m\u001b[43m \u001b[49m\u001b[38;5;124;43m\"\u001b[39;49m\u001b[38;5;124;43mstrict\u001b[39;49m\u001b[38;5;124;43m\"\u001b[39;49m\u001b[43m)\u001b[49m\u001b[43m,\u001b[49m\n\u001b[0;32m   1888\u001b[0m \u001b[43m    \u001b[49m\u001b[43mstorage_options\u001b[49m\u001b[38;5;241;43m=\u001b[39;49m\u001b[38;5;28;43mself\u001b[39;49m\u001b[38;5;241;43m.\u001b[39;49m\u001b[43moptions\u001b[49m\u001b[38;5;241;43m.\u001b[39;49m\u001b[43mget\u001b[49m\u001b[43m(\u001b[49m\u001b[38;5;124;43m\"\u001b[39;49m\u001b[38;5;124;43mstorage_options\u001b[39;49m\u001b[38;5;124;43m\"\u001b[39;49m\u001b[43m,\u001b[49m\u001b[43m \u001b[49m\u001b[38;5;28;43;01mNone\u001b[39;49;00m\u001b[43m)\u001b[49m\u001b[43m,\u001b[49m\n\u001b[0;32m   1889\u001b[0m \u001b[43m\u001b[49m\u001b[43m)\u001b[49m\n\u001b[0;32m   1890\u001b[0m \u001b[38;5;28;01massert\u001b[39;00m \u001b[38;5;28mself\u001b[39m\u001b[38;5;241m.\u001b[39mhandles \u001b[38;5;129;01mis\u001b[39;00m \u001b[38;5;129;01mnot\u001b[39;00m \u001b[38;5;28;01mNone\u001b[39;00m\n\u001b[0;32m   1891\u001b[0m f \u001b[38;5;241m=\u001b[39m \u001b[38;5;28mself\u001b[39m\u001b[38;5;241m.\u001b[39mhandles\u001b[38;5;241m.\u001b[39mhandle\n",
      "File \u001b[1;32m~\\AppData\\Local\\Programs\\Python\\Python312\\Lib\\site-packages\\pandas\\io\\common.py:873\u001b[0m, in \u001b[0;36mget_handle\u001b[1;34m(path_or_buf, mode, encoding, compression, memory_map, is_text, errors, storage_options)\u001b[0m\n\u001b[0;32m    868\u001b[0m \u001b[38;5;28;01melif\u001b[39;00m \u001b[38;5;28misinstance\u001b[39m(handle, \u001b[38;5;28mstr\u001b[39m):\n\u001b[0;32m    869\u001b[0m     \u001b[38;5;66;03m# Check whether the filename is to be opened in binary mode.\u001b[39;00m\n\u001b[0;32m    870\u001b[0m     \u001b[38;5;66;03m# Binary mode does not support 'encoding' and 'newline'.\u001b[39;00m\n\u001b[0;32m    871\u001b[0m     \u001b[38;5;28;01mif\u001b[39;00m ioargs\u001b[38;5;241m.\u001b[39mencoding \u001b[38;5;129;01mand\u001b[39;00m \u001b[38;5;124m\"\u001b[39m\u001b[38;5;124mb\u001b[39m\u001b[38;5;124m\"\u001b[39m \u001b[38;5;129;01mnot\u001b[39;00m \u001b[38;5;129;01min\u001b[39;00m ioargs\u001b[38;5;241m.\u001b[39mmode:\n\u001b[0;32m    872\u001b[0m         \u001b[38;5;66;03m# Encoding\u001b[39;00m\n\u001b[1;32m--> 873\u001b[0m         handle \u001b[38;5;241m=\u001b[39m \u001b[38;5;28;43mopen\u001b[39;49m\u001b[43m(\u001b[49m\n\u001b[0;32m    874\u001b[0m \u001b[43m            \u001b[49m\u001b[43mhandle\u001b[49m\u001b[43m,\u001b[49m\n\u001b[0;32m    875\u001b[0m \u001b[43m            \u001b[49m\u001b[43mioargs\u001b[49m\u001b[38;5;241;43m.\u001b[39;49m\u001b[43mmode\u001b[49m\u001b[43m,\u001b[49m\n\u001b[0;32m    876\u001b[0m \u001b[43m            \u001b[49m\u001b[43mencoding\u001b[49m\u001b[38;5;241;43m=\u001b[39;49m\u001b[43mioargs\u001b[49m\u001b[38;5;241;43m.\u001b[39;49m\u001b[43mencoding\u001b[49m\u001b[43m,\u001b[49m\n\u001b[0;32m    877\u001b[0m \u001b[43m            \u001b[49m\u001b[43merrors\u001b[49m\u001b[38;5;241;43m=\u001b[39;49m\u001b[43merrors\u001b[49m\u001b[43m,\u001b[49m\n\u001b[0;32m    878\u001b[0m \u001b[43m            \u001b[49m\u001b[43mnewline\u001b[49m\u001b[38;5;241;43m=\u001b[39;49m\u001b[38;5;124;43m\"\u001b[39;49m\u001b[38;5;124;43m\"\u001b[39;49m\u001b[43m,\u001b[49m\n\u001b[0;32m    879\u001b[0m \u001b[43m        \u001b[49m\u001b[43m)\u001b[49m\n\u001b[0;32m    880\u001b[0m     \u001b[38;5;28;01melse\u001b[39;00m:\n\u001b[0;32m    881\u001b[0m         \u001b[38;5;66;03m# Binary mode\u001b[39;00m\n\u001b[0;32m    882\u001b[0m         handle \u001b[38;5;241m=\u001b[39m \u001b[38;5;28mopen\u001b[39m(handle, ioargs\u001b[38;5;241m.\u001b[39mmode)\n",
      "\u001b[1;31mFileNotFoundError\u001b[0m: [Errno 2] No such file or directory: '/path/to/your/dataset.csv'"
     ]
    }
   ],
   "source": [
    "import pandas as pd\n",
    "from matplotlib import pyplot as plt\n",
    "import seaborn as sns\n",
    "import numpy as np\n",
    "import warnings\n",
    "warnings.filterwarnings('ignore')\n",
    "\n",
    "# Load the dataset\n",
    "df = pd.read_csv('/path/to/your/dataset.csv')\n",
    "\n",
    "# Display the first few rows of the dataset\n",
    "df.head()"
   ]
  },
  {
   "cell_type": "markdown",
   "id": "e8592daa",
   "metadata": {},
   "source": [
    "## Dataset Overview\n",
    "Here, we display the basic information about the dataset to understand its structure and contents."
   ]
  },
  {
   "cell_type": "code",
   "execution_count": null,
   "id": "5162d2c5",
   "metadata": {},
   "outputs": [],
   "source": [
    "df.info()"
   ]
  },
  {
   "cell_type": "markdown",
   "id": "46673d27",
   "metadata": {},
   "source": [
    "### Summary of Dataset\n",
    "The dataset consists of 23 columns and 14619 rows. It includes various features such as the number of bedrooms, bathrooms, living area, lot area, number of floors, etc. This summary gives us an idea of the data types and the presence of any missing values."
   ]
  },
  {
   "cell_type": "markdown",
   "id": "47323cb4",
   "metadata": {},
   "source": [
    "## Data Cleaning and Preprocessing\n",
    "In this step, we handle missing values, convert data types if necessary, and perform any other preprocessing tasks needed to prepare the data for analysis."
   ]
  },
  {
   "cell_type": "code",
   "execution_count": null,
   "id": "8635b185",
   "metadata": {},
   "outputs": [],
   "source": [
    "# Checking for missing values\n",
    "missing_values = df.isnull().sum()\n",
    "missing_values[missing_values > 0]"
   ]
  },
  {
   "cell_type": "code",
   "execution_count": null,
   "id": "b2452279",
   "metadata": {},
   "outputs": [],
   "source": [
    "# Dropping rows with missing values (if any)\n",
    "df.dropna(inplace=True)\n",
    "\n",
    "# Convert data types if necessary (example)\n",
    "df['Date'] = pd.to_datetime(df['Date'], unit='D', origin='julian')"
   ]
  },
  {
   "cell_type": "markdown",
   "id": "f572b333",
   "metadata": {},
   "source": [
    "### Data Cleaning Summary\n",
    "After handling missing values and converting data types, the dataset is now clean and ready for further analysis."
   ]
  },
  {
   "cell_type": "markdown",
   "id": "c8a5d6d9",
   "metadata": {},
   "source": [
    "## Exploratory Data Analysis (EDA)\n",
    "We perform exploratory data analysis to uncover patterns, trends, and relationships in the data."
   ]
  },
  {
   "cell_type": "code",
   "execution_count": null,
   "id": "3e59907e-1414-4cfa-a239-3bb33d31f2b6",
   "metadata": {},
   "outputs": [],
   "source": [
    "df.describe().T"
   ]
  },
  {
   "cell_type": "code",
   "execution_count": null,
   "id": "86ce783b-6098-4573-995b-855b9a76e53f",
   "metadata": {},
   "outputs": [],
   "source": [
    "df=df.drop(columns=['id','Date'])"
   ]
  },
  {
   "cell_type": "code",
   "execution_count": null,
   "id": "e627da4e-5708-4673-afd3-7d2709651f63",
   "metadata": {},
   "outputs": [],
   "source": [
    "df=df.drop(columns=['Longitude','Lattitude','Postal Code'] )                       "
   ]
  },
  {
   "cell_type": "code",
   "execution_count": null,
   "id": "db779d4c-6b44-4ef7-80db-dc3303225365",
   "metadata": {},
   "outputs": [],
   "source": [
    "df.head()"
   ]
  },
  {
   "cell_type": "markdown",
   "id": "6291c39c-ef01-485a-9415-ccd9faef9fc2",
   "metadata": {},
   "source": [
    "#### Distribution of House Prices\n",
    "In this step, we plot the distribution of house prices to understand their spread and central tendency. A histogram with a kernel density estimate (KDE) overlay provides a clear visualization of the distribution."
   ]
  },
  {
   "cell_type": "code",
   "execution_count": null,
   "id": "cd489db6-fe78-4c2f-bf9e-75a5f860f9d4",
   "metadata": {},
   "outputs": [],
   "source": [
    "# plt.figure(figsize=(10,5))\n",
    "# sns.countplot(x=\"Price\",data =df,palette=\"inferno\")\n",
    "# plt.ylabel(\"Frequency\")\n",
    "# plt.xlabel('Price')\n",
    "# plt.title(\"Price Distribution\",size=15)\n",
    "# plt.show()\n",
    "\n",
    "\n",
    "\n",
    "# Plotting the distribution of house prices\n",
    "plt.figure(figsize=(10, 6))\n",
    "sns.histplot(df['Price'], kde=True, bins=30)\n",
    "plt.title('Distribution of House Prices')\n",
    "plt.xlabel('Price')\n",
    "plt.ylabel('Frequency')\n",
    "plt.show()\n"
   ]
  },
  {
   "cell_type": "markdown",
   "id": "ceb45402-4426-4ccf-9c37-5ed4f6f621b1",
   "metadata": {},
   "source": [
    "#### Central Tendency:\n",
    "The majority of house prices are concentrated around a certain range, indicating the most common price range in the dataset.\n",
    "#### Spread: \n",
    "The plot shows the spread of house prices, indicating the range of prices from the lowest to the highest.\n",
    "#### Skewness: \n",
    "If the distribution is not symmetric, it suggests skewness. For example, if there are more houses with lower prices and fewer with extremely high prices, the distribution would be right-skewed.\n",
    "#### Outliers:\n",
    "The presence of any significant outliers can be observed. Outliers are house prices that are much higher or lower than the rest of the data points."
   ]
  },
  {
   "cell_type": "code",
   "execution_count": null,
   "id": "18930ef1-a8af-43c5-9ed9-6af430becce9",
   "metadata": {},
   "outputs": [],
   "source": [
    "# Plotting the correlation heatmap\n",
    "plt.figure(figsize=(14, 10))\n",
    "correlation_matrix = df.corr()\n",
    "sns.heatmap(correlation_matrix, annot=True, cmap='coolwarm', fmt='.2f', linewidths=0.5)\n",
    "plt.title('Correlation Heatmap')\n",
    "plt.show()\n"
   ]
  },
  {
   "cell_type": "markdown",
   "id": "9433b93b-232e-488a-8bfd-6f86f31bd303",
   "metadata": {},
   "source": [
    "#### Strong Positive Correlations: \n",
    "Some features show strong positive correlations with each other and with the target variable 'Price'. For example, 'living area' might have a high positive correlation with 'Price', indicating that larger living areas are associated with higher prices.\n",
    "\n",
    "#### Strong Negative Correlations:\n",
    "There may be features with strong negative correlations with 'Price' or other features. For instance, 'Distance from the airport' might have a negative correlation with 'Price', suggesting that houses farther from the airport tend to have lower prices.\n",
    "\n",
    "### Weak or No Correlations:\n",
    "Some features may show very weak or no correlation with 'Price', indicating they might not be significant predictors for the target variable.\n",
    "\n",
    "#### Feature Interrelationships:\n",
    "The heatmap helps in understanding the interrelationships between features. For example, 'number of bedrooms' and 'living area' might show a strong correlation, indicating that houses with more bedrooms tend to have larger living areas."
   ]
  },
  {
   "cell_type": "code",
   "execution_count": null,
   "id": "04920df6-f551-4bfa-9c84-73f7371b36a9",
   "metadata": {},
   "outputs": [],
   "source": [
    "df.head()"
   ]
  },
  {
   "cell_type": "code",
   "execution_count": null,
   "id": "2afda342-601f-427b-8d31-1b861afeab99",
   "metadata": {
    "scrolled": true
   },
   "outputs": [],
   "source": [
    "# Plotting Price vs. Number of Bedrooms\n",
    "plt.figure(figsize=(12, 6))\n",
    "sns.boxplot(x='number of bedrooms', y='Price', data=df)\n",
    "plt.title('Price vs. Number of Bedrooms')\n",
    "plt.xlabel('Number of Bedrooms')\n",
    "plt.ylabel('Price')\n",
    "plt.show()\n",
    "\n",
    "# Plotting Price vs. Number of Bathrooms\n",
    "plt.figure(figsize=(12, 6))\n",
    "sns.boxplot(x='number of bathrooms', y='Price', data=df)\n",
    "plt.title('Price vs. Number of Bathrooms')\n",
    "plt.xlabel('Number of Bathrooms')\n",
    "plt.ylabel('Price')\n",
    "plt.show()\n"
   ]
  },
  {
   "cell_type": "markdown",
   "id": "22cd24b6-ed1d-4cd6-b28e-d11beb866fa9",
   "metadata": {},
   "source": [
    "### Price vs. Number of Bedrooms\n",
    "#### Observations:\n",
    "\n",
    " Median Price: The median price of houses increases with the number of bedrooms, indicating that houses with more bedrooms generally tend to be more expensive.\n",
    "Price Range: The range of house prices (from lower to upper quartile) for each number of bedrooms shows variability. Larger ranges indicate more variability in prices for houses with that number of bedrooms.\n",
    "\n",
    "Outliers: Outliers are visible as individual points outside the whiskers of the boxplot, indicating houses that are priced significantly higher or lower than the majority of houses with the same number of bedrooms.\n",
    "\n",
    "Summary: The boxplot shows a positive relationship between the number of bedrooms and house prices. As the number of bedrooms increases, the median house price tends to rise. However, there is also significant variability and outliers in each category.\n",
    "\n",
    "### Price vs. Number of Bathrooms\n",
    "#### Observations:\n",
    "\n",
    "Median Price: The median price of houses increases with the number of bathrooms, indicating that houses with more bathrooms generally tend to be more expensive.\n",
    "Price Range: The range of house prices for each number of bathrooms shows variability. Larger ranges indicate more variability in prices for houses with that number of bathrooms.\n",
    "\n",
    "Outliers: Outliers are visible as individual points outside the whiskers of the boxplot, indicating houses that are priced significantly higher or lower than the majority of houses with the same number of bathrooms.\n",
    "\n",
    "Summary: The boxplot shows a positive relationship between the number of bathrooms and house prices. As the number of bathrooms increases, the median house price tends to rise. However, there is also significant variability and outliers in each category."
   ]
  },
  {
   "cell_type": "code",
   "execution_count": null,
   "id": "d64188fb-4b44-4887-8b2f-6e9b88ddc0d1",
   "metadata": {},
   "outputs": [],
   "source": [
    "\n",
    "# Plotting Year Built vs. Price\n",
    "plt.figure(figsize=(12, 6))\n",
    "sns.scatterplot(x='Built Year', y='Price', data=df)\n",
    "plt.title('Year Built vs. Price')\n",
    "plt.xlabel('Year Built')\n",
    "plt.ylabel('Price')\n",
    "plt.show()\n"
   ]
  },
  {
   "cell_type": "markdown",
   "id": "5ce0afd1-153c-4894-aac0-0967a632c1a5",
   "metadata": {},
   "source": [
    "### Year Built vs. Price\n",
    "#### Observations:\n",
    "\n",
    "Price Trend Over Time: The scatterplot shows the relationship between the year a house was built and its price. Generally, houses built in more recent years tend to have higher prices, but there is considerable variability.\n",
    "\n",
    "Variability: There is significant variability in prices for houses built in different years. Some older houses still command high prices, likely due to renovations, historical value, or desirable locations.\n",
    "\n",
    "Outliers: There are outliers present, with some houses built in certain years being significantly more expensive or cheaper than the general trend."
   ]
  },
  {
   "cell_type": "code",
   "execution_count": null,
   "id": "d18c65fb-10bb-4acc-a3cf-4fd988776098",
   "metadata": {},
   "outputs": [],
   "source": []
  }
 ],
 "metadata": {
  "kernelspec": {
   "display_name": "Python 3 (ipykernel)",
   "language": "python",
   "name": "python3"
  },
  "language_info": {
   "codemirror_mode": {
    "name": "ipython",
    "version": 3
   },
   "file_extension": ".py",
   "mimetype": "text/x-python",
   "name": "python",
   "nbconvert_exporter": "python",
   "pygments_lexer": "ipython3",
   "version": "3.12.4"
  }
 },
 "nbformat": 4,
 "nbformat_minor": 5
}
