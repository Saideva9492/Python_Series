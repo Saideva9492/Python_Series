{
 "cells": [
  {
   "cell_type": "markdown",
   "id": "d94b6f7b",
   "metadata": {},
   "source": [
    "# Why Numpy\n",
    "Is used for performing numerical operations like array addition, subtraction, multiplication, to create some random numbers, create\n",
    "dummy values, etc"
   ]
  },
  {
   "cell_type": "code",
   "execution_count": 1,
   "id": "40cfeb5a",
   "metadata": {},
   "outputs": [
    {
     "name": "stdout",
     "output_type": "stream",
     "text": [
      "Requirement already satisfied: numpy in c:\\users\\nasir\\appdata\\local\\programs\\python\\python311\\lib\\site-packages (1.24.3)\n"
     ]
    }
   ],
   "source": [
    "!pip install numpy "
   ]
  },
  {
   "cell_type": "code",
   "execution_count": 2,
   "id": "a8f7a76e",
   "metadata": {},
   "outputs": [],
   "source": [
    "import numpy as np"
   ]
  },
  {
   "cell_type": "markdown",
   "id": "7fd1b2e1",
   "metadata": {},
   "source": [
    "##  List vs Array\n",
    "### List cannot perform element-wise operations where Arrays can perform elementwise operations."
   ]
  },
  {
   "cell_type": "code",
   "execution_count": 3,
   "id": "3d5eb06f",
   "metadata": {},
   "outputs": [],
   "source": [
    "scores=[95,96,90,98,90,95,33,36]"
   ]
  },
  {
   "cell_type": "code",
   "execution_count": 4,
   "id": "a8bb923f",
   "metadata": {},
   "outputs": [
    {
     "ename": "TypeError",
     "evalue": "can only concatenate list (not \"int\") to list",
     "output_type": "error",
     "traceback": [
      "\u001b[1;31m---------------------------------------------------------------------------\u001b[0m",
      "\u001b[1;31mTypeError\u001b[0m                                 Traceback (most recent call last)",
      "Cell \u001b[1;32mIn[4], line 1\u001b[0m\n\u001b[1;32m----> 1\u001b[0m \u001b[43mscores\u001b[49m\u001b[38;5;241;43m+\u001b[39;49m\u001b[38;5;241;43m2\u001b[39;49m\n",
      "\u001b[1;31mTypeError\u001b[0m: can only concatenate list (not \"int\") to list"
     ]
    }
   ],
   "source": [
    "scores+2"
   ]
  },
  {
   "cell_type": "code",
   "execution_count": 5,
   "id": "fea4452a",
   "metadata": {},
   "outputs": [
    {
     "data": {
      "text/plain": [
       "97"
      ]
     },
     "execution_count": 5,
     "metadata": {},
     "output_type": "execute_result"
    }
   ],
   "source": [
    "scores[0]+2"
   ]
  },
  {
   "cell_type": "code",
   "execution_count": 6,
   "id": "a7069b1f",
   "metadata": {},
   "outputs": [
    {
     "ename": "KeyboardInterrupt",
     "evalue": "",
     "output_type": "error",
     "traceback": [
      "\u001b[1;31m---------------------------------------------------------------------------\u001b[0m",
      "\u001b[1;31mKeyboardInterrupt\u001b[0m                         Traceback (most recent call last)",
      "Cell \u001b[1;32mIn[6], line 3\u001b[0m\n\u001b[0;32m      1\u001b[0m \u001b[38;5;28;01mfor\u001b[39;00m i \u001b[38;5;129;01min\u001b[39;00m scores:\n\u001b[0;32m      2\u001b[0m     i\u001b[38;5;241m+\u001b[39m\u001b[38;5;241m2\u001b[39m\n\u001b[1;32m----> 3\u001b[0m     scores\u001b[38;5;241m.\u001b[39mappend(i)\n",
      "\u001b[1;31mKeyboardInterrupt\u001b[0m: "
     ]
    }
   ],
   "source": [
    "for i in scores:\n",
    "    i+2\n",
    "    scores.append(i)"
   ]
  },
  {
   "cell_type": "code",
   "execution_count": 7,
   "id": "3b7309ff",
   "metadata": {},
   "outputs": [],
   "source": [
    "arr=np.array([95,96,90,98,90,95,33,36])"
   ]
  },
  {
   "cell_type": "code",
   "execution_count": 8,
   "id": "7bc7259a",
   "metadata": {},
   "outputs": [
    {
     "data": {
      "text/plain": [
       "array([95, 96, 90, 98, 90, 95, 33, 36])"
      ]
     },
     "execution_count": 8,
     "metadata": {},
     "output_type": "execute_result"
    }
   ],
   "source": [
    "arr"
   ]
  },
  {
   "cell_type": "code",
   "execution_count": 9,
   "id": "51264c01",
   "metadata": {},
   "outputs": [
    {
     "data": {
      "text/plain": [
       "array([ 97,  98,  92, 100,  92,  97,  35,  38])"
      ]
     },
     "execution_count": 9,
     "metadata": {},
     "output_type": "execute_result"
    }
   ],
   "source": [
    "arr+2"
   ]
  },
  {
   "cell_type": "markdown",
   "id": "283e3a7b",
   "metadata": {},
   "source": [
    "### List is Heteregenous and Arrays are Homogenous"
   ]
  },
  {
   "cell_type": "code",
   "execution_count": 10,
   "id": "5965ac07",
   "metadata": {},
   "outputs": [],
   "source": [
    "scores=[90,80,88]"
   ]
  },
  {
   "cell_type": "code",
   "execution_count": 11,
   "id": "bb4b6613",
   "metadata": {},
   "outputs": [
    {
     "data": {
      "text/plain": [
       "[90, 80, 88]"
      ]
     },
     "execution_count": 11,
     "metadata": {},
     "output_type": "execute_result"
    }
   ],
   "source": [
    "scores"
   ]
  },
  {
   "cell_type": "code",
   "execution_count": 13,
   "id": "9b50e15e",
   "metadata": {},
   "outputs": [],
   "source": [
    "scores_1=[90,80.5,88]"
   ]
  },
  {
   "cell_type": "code",
   "execution_count": 14,
   "id": "5749b1c4",
   "metadata": {},
   "outputs": [
    {
     "data": {
      "text/plain": [
       "[90, 80.5, 88]"
      ]
     },
     "execution_count": 14,
     "metadata": {},
     "output_type": "execute_result"
    }
   ],
   "source": [
    "scores_1"
   ]
  },
  {
   "cell_type": "code",
   "execution_count": 15,
   "id": "55b46adb",
   "metadata": {},
   "outputs": [],
   "source": [
    "arr=np.array([60,80,90])"
   ]
  },
  {
   "cell_type": "code",
   "execution_count": 16,
   "id": "bc2a490f",
   "metadata": {},
   "outputs": [
    {
     "data": {
      "text/plain": [
       "array([60, 80, 90])"
      ]
     },
     "execution_count": 16,
     "metadata": {},
     "output_type": "execute_result"
    }
   ],
   "source": [
    "arr"
   ]
  },
  {
   "cell_type": "code",
   "execution_count": 17,
   "id": "1d57c2d7",
   "metadata": {},
   "outputs": [],
   "source": [
    "arr_1=np.array([60,80.5,90])"
   ]
  },
  {
   "cell_type": "code",
   "execution_count": 18,
   "id": "e06f7afd",
   "metadata": {},
   "outputs": [
    {
     "data": {
      "text/plain": [
       "array([60. , 80.5, 90. ])"
      ]
     },
     "execution_count": 18,
     "metadata": {},
     "output_type": "execute_result"
    }
   ],
   "source": [
    "arr_1"
   ]
  },
  {
   "cell_type": "code",
   "execution_count": 19,
   "id": "76a98b52",
   "metadata": {},
   "outputs": [],
   "source": [
    "arr_2=np.array([60,80.5,\"90\"])"
   ]
  },
  {
   "cell_type": "code",
   "execution_count": 20,
   "id": "c2fdf848",
   "metadata": {},
   "outputs": [
    {
     "data": {
      "text/plain": [
       "array(['60', '80.5', '90'], dtype='<U32')"
      ]
     },
     "execution_count": 20,
     "metadata": {},
     "output_type": "execute_result"
    }
   ],
   "source": [
    "arr_2"
   ]
  },
  {
   "cell_type": "markdown",
   "id": "696be5b4",
   "metadata": {},
   "source": [
    "## Create 1D array"
   ]
  },
  {
   "cell_type": "code",
   "execution_count": 21,
   "id": "1ee377e5",
   "metadata": {},
   "outputs": [],
   "source": [
    "arr_1=np.array([1,2,3,4,5,6,7,8,9])"
   ]
  },
  {
   "cell_type": "code",
   "execution_count": 22,
   "id": "4efc2a0d",
   "metadata": {},
   "outputs": [
    {
     "data": {
      "text/plain": [
       "array([1, 2, 3, 4, 5, 6, 7, 8, 9])"
      ]
     },
     "execution_count": 22,
     "metadata": {},
     "output_type": "execute_result"
    }
   ],
   "source": [
    "arr_1"
   ]
  },
  {
   "cell_type": "code",
   "execution_count": 23,
   "id": "0014d59c",
   "metadata": {},
   "outputs": [
    {
     "data": {
      "text/plain": [
       "1"
      ]
     },
     "execution_count": 23,
     "metadata": {},
     "output_type": "execute_result"
    }
   ],
   "source": [
    "arr_1.ndim"
   ]
  },
  {
   "cell_type": "markdown",
   "id": "a6a95bb8",
   "metadata": {},
   "source": [
    "## Create 2D array"
   ]
  },
  {
   "cell_type": "code",
   "execution_count": 25,
   "id": "82849edc",
   "metadata": {},
   "outputs": [],
   "source": [
    "arr_2=np.array([[1,2,3,4,5],[6,7,8,9,10]])"
   ]
  },
  {
   "cell_type": "code",
   "execution_count": 26,
   "id": "ae29a007",
   "metadata": {},
   "outputs": [
    {
     "data": {
      "text/plain": [
       "array([[ 1,  2,  3,  4,  5],\n",
       "       [ 6,  7,  8,  9, 10]])"
      ]
     },
     "execution_count": 26,
     "metadata": {},
     "output_type": "execute_result"
    }
   ],
   "source": [
    "arr_2"
   ]
  },
  {
   "cell_type": "code",
   "execution_count": 27,
   "id": "e3da32e3",
   "metadata": {},
   "outputs": [
    {
     "data": {
      "text/plain": [
       "2"
      ]
     },
     "execution_count": 27,
     "metadata": {},
     "output_type": "execute_result"
    }
   ],
   "source": [
    "arr_2.ndim"
   ]
  },
  {
   "cell_type": "markdown",
   "id": "adc0ed25",
   "metadata": {},
   "source": [
    "## Create 3D array"
   ]
  },
  {
   "cell_type": "code",
   "execution_count": 28,
   "id": "359b5908",
   "metadata": {},
   "outputs": [],
   "source": [
    "arr_3=np.array([[[1,2,3],[4,5,6],[7,8,9]]])"
   ]
  },
  {
   "cell_type": "code",
   "execution_count": 29,
   "id": "7febadf7",
   "metadata": {},
   "outputs": [
    {
     "data": {
      "text/plain": [
       "array([[[1, 2, 3],\n",
       "        [4, 5, 6],\n",
       "        [7, 8, 9]]])"
      ]
     },
     "execution_count": 29,
     "metadata": {},
     "output_type": "execute_result"
    }
   ],
   "source": [
    "arr_3"
   ]
  },
  {
   "cell_type": "code",
   "execution_count": 30,
   "id": "bb9d2c85",
   "metadata": {},
   "outputs": [
    {
     "data": {
      "text/plain": [
       "3"
      ]
     },
     "execution_count": 30,
     "metadata": {},
     "output_type": "execute_result"
    }
   ],
   "source": [
    "arr_3.ndim"
   ]
  },
  {
   "cell_type": "code",
   "execution_count": 38,
   "id": "2a9f04f4",
   "metadata": {},
   "outputs": [],
   "source": [
    "arr_4=np.array([[1,2,3],[5,6,7],[8,9,10],[11,12.0,13]])"
   ]
  },
  {
   "cell_type": "code",
   "execution_count": 39,
   "id": "232bfbd6",
   "metadata": {},
   "outputs": [
    {
     "data": {
      "text/plain": [
       "array([[ 1.,  2.,  3.],\n",
       "       [ 5.,  6.,  7.],\n",
       "       [ 8.,  9., 10.],\n",
       "       [11., 12., 13.]])"
      ]
     },
     "execution_count": 39,
     "metadata": {},
     "output_type": "execute_result"
    }
   ],
   "source": [
    "arr_4"
   ]
  },
  {
   "cell_type": "code",
   "execution_count": 34,
   "id": "1f2767c6",
   "metadata": {},
   "outputs": [
    {
     "data": {
      "text/plain": [
       "2"
      ]
     },
     "execution_count": 34,
     "metadata": {},
     "output_type": "execute_result"
    }
   ],
   "source": [
    "arr_4.ndim"
   ]
  },
  {
   "cell_type": "code",
   "execution_count": null,
   "id": "ac1613c0",
   "metadata": {},
   "outputs": [],
   "source": []
  },
  {
   "cell_type": "code",
   "execution_count": 35,
   "id": "fbe3e252",
   "metadata": {},
   "outputs": [
    {
     "data": {
      "text/plain": [
       "array([[ 1,  2,  3],\n",
       "       [ 5,  6,  7],\n",
       "       [ 8,  9, 10],\n",
       "       [11, 12, 13]])"
      ]
     },
     "execution_count": 35,
     "metadata": {},
     "output_type": "execute_result"
    }
   ],
   "source": [
    "arr_4"
   ]
  },
  {
   "cell_type": "code",
   "execution_count": 40,
   "id": "104afc14",
   "metadata": {},
   "outputs": [],
   "source": [
    "arr_4[2][1]=np.nan"
   ]
  },
  {
   "cell_type": "code",
   "execution_count": 41,
   "id": "7f3475f6",
   "metadata": {},
   "outputs": [
    {
     "data": {
      "text/plain": [
       "array([[ 1.,  2.,  3.],\n",
       "       [ 5.,  6.,  7.],\n",
       "       [ 8., nan, 10.],\n",
       "       [11., 12., 13.]])"
      ]
     },
     "execution_count": 41,
     "metadata": {},
     "output_type": "execute_result"
    }
   ],
   "source": [
    "arr_4"
   ]
  },
  {
   "cell_type": "code",
   "execution_count": 43,
   "id": "75d422e4",
   "metadata": {},
   "outputs": [],
   "source": [
    "arr_4[3]=np.nan"
   ]
  },
  {
   "cell_type": "code",
   "execution_count": 44,
   "id": "3c84ab15",
   "metadata": {},
   "outputs": [
    {
     "data": {
      "text/plain": [
       "array([[ 1.,  2.,  3.],\n",
       "       [ 5.,  6.,  7.],\n",
       "       [ 8., nan, 10.],\n",
       "       [nan, nan, nan]])"
      ]
     },
     "execution_count": 44,
     "metadata": {},
     "output_type": "execute_result"
    }
   ],
   "source": [
    "arr_4"
   ]
  },
  {
   "cell_type": "code",
   "execution_count": 55,
   "id": "9e153a04",
   "metadata": {},
   "outputs": [],
   "source": [
    "arr_5=np.array([1,2,3,8,9,4,5,6,8,90])"
   ]
  },
  {
   "cell_type": "code",
   "execution_count": 48,
   "id": "0679d328",
   "metadata": {},
   "outputs": [
    {
     "data": {
      "text/plain": [
       "13.6"
      ]
     },
     "execution_count": 48,
     "metadata": {},
     "output_type": "execute_result"
    }
   ],
   "source": [
    "arr_5.mean()"
   ]
  },
  {
   "cell_type": "code",
   "execution_count": 49,
   "id": "72faa725",
   "metadata": {},
   "outputs": [
    {
     "data": {
      "text/plain": [
       "90"
      ]
     },
     "execution_count": 49,
     "metadata": {},
     "output_type": "execute_result"
    }
   ],
   "source": [
    "arr_5.max()"
   ]
  },
  {
   "cell_type": "code",
   "execution_count": 50,
   "id": "dfc9e2f2",
   "metadata": {},
   "outputs": [
    {
     "data": {
      "text/plain": [
       "1"
      ]
     },
     "execution_count": 50,
     "metadata": {},
     "output_type": "execute_result"
    }
   ],
   "source": [
    "arr_5.min()"
   ]
  },
  {
   "cell_type": "code",
   "execution_count": 51,
   "id": "833f98b4",
   "metadata": {},
   "outputs": [
    {
     "data": {
      "text/plain": [
       "25.593749236874228"
      ]
     },
     "execution_count": 51,
     "metadata": {},
     "output_type": "execute_result"
    }
   ],
   "source": [
    "arr_5.std()"
   ]
  },
  {
   "cell_type": "code",
   "execution_count": 52,
   "id": "2f33cad1",
   "metadata": {},
   "outputs": [],
   "source": [
    "arr_5.sort()"
   ]
  },
  {
   "cell_type": "code",
   "execution_count": 53,
   "id": "23f9df0e",
   "metadata": {},
   "outputs": [
    {
     "data": {
      "text/plain": [
       "array([ 1,  2,  3,  4,  5,  6,  8,  8,  9, 90])"
      ]
     },
     "execution_count": 53,
     "metadata": {},
     "output_type": "execute_result"
    }
   ],
   "source": [
    "arr_5"
   ]
  },
  {
   "cell_type": "code",
   "execution_count": 57,
   "id": "02095887",
   "metadata": {},
   "outputs": [
    {
     "data": {
      "text/plain": [
       "9"
      ]
     },
     "execution_count": 57,
     "metadata": {},
     "output_type": "execute_result"
    }
   ],
   "source": [
    "arr_5.argmax()"
   ]
  },
  {
   "cell_type": "code",
   "execution_count": 58,
   "id": "482badfe",
   "metadata": {},
   "outputs": [],
   "source": [
    "arr_5=np.array([1,2,3,8,9,4,500,5,6,8,90])"
   ]
  },
  {
   "cell_type": "code",
   "execution_count": 59,
   "id": "b13486ab",
   "metadata": {},
   "outputs": [
    {
     "data": {
      "text/plain": [
       "500"
      ]
     },
     "execution_count": 59,
     "metadata": {},
     "output_type": "execute_result"
    }
   ],
   "source": [
    "arr_5.max()"
   ]
  },
  {
   "cell_type": "code",
   "execution_count": 60,
   "id": "862a0729",
   "metadata": {},
   "outputs": [
    {
     "data": {
      "text/plain": [
       "6"
      ]
     },
     "execution_count": 60,
     "metadata": {},
     "output_type": "execute_result"
    }
   ],
   "source": [
    "arr_5.argmax()"
   ]
  },
  {
   "cell_type": "code",
   "execution_count": 61,
   "id": "b663d259",
   "metadata": {},
   "outputs": [
    {
     "data": {
      "text/plain": [
       "array([  1,   3,   6,  14,  23,  27, 527, 532, 538, 546, 636])"
      ]
     },
     "execution_count": 61,
     "metadata": {},
     "output_type": "execute_result"
    }
   ],
   "source": [
    "arr_5.cumsum()"
   ]
  },
  {
   "cell_type": "code",
   "execution_count": null,
   "id": "81d5cb15",
   "metadata": {},
   "outputs": [],
   "source": [
    "arr_5."
   ]
  },
  {
   "cell_type": "code",
   "execution_count": 67,
   "id": "c7dbd634",
   "metadata": {},
   "outputs": [
    {
     "data": {
      "text/plain": [
       "2"
      ]
     },
     "execution_count": 67,
     "metadata": {},
     "output_type": "execute_result"
    }
   ],
   "source": [
    "arr_2.ndim"
   ]
  },
  {
   "cell_type": "code",
   "execution_count": 65,
   "id": "b1506cdc",
   "metadata": {},
   "outputs": [],
   "source": [
    "arr_6=arr_2.flatten()"
   ]
  },
  {
   "cell_type": "code",
   "execution_count": 68,
   "id": "7cf3d1f9",
   "metadata": {},
   "outputs": [
    {
     "data": {
      "text/plain": [
       "1"
      ]
     },
     "execution_count": 68,
     "metadata": {},
     "output_type": "execute_result"
    }
   ],
   "source": [
    "arr_6.ndim"
   ]
  },
  {
   "cell_type": "code",
   "execution_count": 70,
   "id": "85fa42b6",
   "metadata": {},
   "outputs": [
    {
     "data": {
      "text/plain": [
       "array([ 1.        ,  1.20408163,  1.40816327,  1.6122449 ,  1.81632653,\n",
       "        2.02040816,  2.2244898 ,  2.42857143,  2.63265306,  2.83673469,\n",
       "        3.04081633,  3.24489796,  3.44897959,  3.65306122,  3.85714286,\n",
       "        4.06122449,  4.26530612,  4.46938776,  4.67346939,  4.87755102,\n",
       "        5.08163265,  5.28571429,  5.48979592,  5.69387755,  5.89795918,\n",
       "        6.10204082,  6.30612245,  6.51020408,  6.71428571,  6.91836735,\n",
       "        7.12244898,  7.32653061,  7.53061224,  7.73469388,  7.93877551,\n",
       "        8.14285714,  8.34693878,  8.55102041,  8.75510204,  8.95918367,\n",
       "        9.16326531,  9.36734694,  9.57142857,  9.7755102 ,  9.97959184,\n",
       "       10.18367347, 10.3877551 , 10.59183673, 10.79591837, 11.        ])"
      ]
     },
     "execution_count": 70,
     "metadata": {},
     "output_type": "execute_result"
    }
   ],
   "source": [
    "np.linspace(1,11,50)"
   ]
  },
  {
   "cell_type": "code",
   "execution_count": 71,
   "id": "c63afb73",
   "metadata": {},
   "outputs": [
    {
     "data": {
      "text/plain": [
       "0.2040816299999999"
      ]
     },
     "execution_count": 71,
     "metadata": {},
     "output_type": "execute_result"
    }
   ],
   "source": [
    "1.20408163-1."
   ]
  },
  {
   "cell_type": "code",
   "execution_count": 72,
   "id": "e8a20416",
   "metadata": {},
   "outputs": [
    {
     "data": {
      "text/plain": [
       "0.20408164000000006"
      ]
     },
     "execution_count": 72,
     "metadata": {},
     "output_type": "execute_result"
    }
   ],
   "source": [
    " 1.40816327-1.20408163"
   ]
  },
  {
   "cell_type": "code",
   "execution_count": 75,
   "id": "dc3e0c15",
   "metadata": {},
   "outputs": [
    {
     "data": {
      "text/plain": [
       "array([ 1,  4,  7, 10, 13, 16, 19])"
      ]
     },
     "execution_count": 75,
     "metadata": {},
     "output_type": "execute_result"
    }
   ],
   "source": [
    "np.arange(1,20,3)"
   ]
  },
  {
   "cell_type": "code",
   "execution_count": 79,
   "id": "b72f4885",
   "metadata": {},
   "outputs": [
    {
     "data": {
      "text/plain": [
       "array([[0.43961002, 0.24932845, 0.1414761 , 0.80711042, 0.31711299],\n",
       "       [0.62692472, 0.52214879, 0.91225128, 0.10183828, 0.03633324],\n",
       "       [0.23324522, 0.16603494, 0.14099336, 0.67670435, 0.18292453],\n",
       "       [0.71536684, 0.49610574, 0.61928416, 0.36574403, 0.18910282],\n",
       "       [0.5948218 , 0.97515238, 0.91634729, 0.1933487 , 0.66081031],\n",
       "       [0.42988136, 0.94468115, 0.28585534, 0.03207908, 0.20072535],\n",
       "       [0.27654694, 0.64862177, 0.37705929, 0.94121144, 0.73642161],\n",
       "       [0.31465076, 0.77859253, 0.36716474, 0.3372899 , 0.31973731],\n",
       "       [0.76380135, 0.26061454, 0.0835396 , 0.73518387, 0.0091568 ],\n",
       "       [0.50106449, 0.1060135 , 0.99432692, 0.58467355, 0.03788427]])"
      ]
     },
     "execution_count": 79,
     "metadata": {},
     "output_type": "execute_result"
    }
   ],
   "source": [
    "np.random.rand(10,5)"
   ]
  },
  {
   "cell_type": "code",
   "execution_count": null,
   "id": "cff63353",
   "metadata": {},
   "outputs": [],
   "source": []
  },
  {
   "cell_type": "code",
   "execution_count": 89,
   "id": "4e00f498",
   "metadata": {},
   "outputs": [
    {
     "data": {
      "text/plain": [
       "array([[0.49460165, 0.2280831 , 0.25547392, 0.39632991, 0.3773151 ],\n",
       "       [0.99657423, 0.4081972 , 0.77189399, 0.76053669, 0.31000935],\n",
       "       [0.3465412 , 0.35176482, 0.14546686, 0.97266468, 0.90917844],\n",
       "       [0.5599571 , 0.31359075, 0.88820004, 0.67457307, 0.39108745],\n",
       "       [0.50718412, 0.5241035 , 0.92800093, 0.57137307, 0.66833757],\n",
       "       [0.05225869, 0.3270573 , 0.05640164, 0.17982769, 0.92593317],\n",
       "       [0.93801522, 0.71409271, 0.73268761, 0.46174768, 0.93132927],\n",
       "       [0.40642024, 0.68320577, 0.64991587, 0.59876518, 0.22203939],\n",
       "       [0.68235717, 0.8780563 , 0.79671726, 0.43200225, 0.91787822],\n",
       "       [0.78183368, 0.72575028, 0.12485469, 0.91630845, 0.38771099]])"
      ]
     },
     "execution_count": 89,
     "metadata": {},
     "output_type": "execute_result"
    }
   ],
   "source": [
    "np.random.seed(50)\n",
    "np.random.rand(10,5)"
   ]
  },
  {
   "cell_type": "code",
   "execution_count": 116,
   "id": "858ac533",
   "metadata": {},
   "outputs": [
    {
     "data": {
      "text/plain": [
       "array([63, 56, 76, 13, 15, 20, 27, 20, 73, 40,  5, 53, 31, 30, 31, 33, 29,\n",
       "       20, 68, 87, 61, 56, 86, 57, 67,  1, 61,  4, 24, 13, 36, 79, 70, 29,\n",
       "       72, 55, 58, 11, 47, 49, 21, 52,  8, 43, 88, 69, 67, 13, 61, 81])"
      ]
     },
     "execution_count": 116,
     "metadata": {},
     "output_type": "execute_result"
    }
   ],
   "source": [
    "\n",
    "np.random.randint(1,90,50)"
   ]
  },
  {
   "cell_type": "code",
   "execution_count": null,
   "id": "06f75d80",
   "metadata": {},
   "outputs": [],
   "source": []
  },
  {
   "cell_type": "code",
   "execution_count": 121,
   "id": "79658eb4",
   "metadata": {},
   "outputs": [
    {
     "data": {
      "text/plain": [
       "array([[ 2.47565551, -0.09218666,  0.54007999, -0.11632693, -0.27501822,\n",
       "         1.03799786, -0.08114915,  0.41109738, -0.26913957, -0.37116932],\n",
       "       [ 0.81512767, -0.51004318,  0.27614424, -1.53067679,  0.02632716,\n",
       "        -0.50225538,  0.47446428, -0.6801921 , -2.06128195, -0.37455518]])"
      ]
     },
     "execution_count": 121,
     "metadata": {},
     "output_type": "execute_result"
    }
   ],
   "source": [
    "np.random.randn(2,10)"
   ]
  },
  {
   "cell_type": "code",
   "execution_count": null,
   "id": "e20a39e9",
   "metadata": {},
   "outputs": [],
   "source": [
    "np.random.randn()"
   ]
  },
  {
   "cell_type": "code",
   "execution_count": null,
   "id": "05691189",
   "metadata": {},
   "outputs": [],
   "source": []
  },
  {
   "cell_type": "code",
   "execution_count": null,
   "id": "3a930b35",
   "metadata": {},
   "outputs": [],
   "source": []
  },
  {
   "cell_type": "code",
   "execution_count": null,
   "id": "401c0b44",
   "metadata": {},
   "outputs": [],
   "source": []
  }
 ],
 "metadata": {
  "kernelspec": {
   "display_name": "Python 3 (ipykernel)",
   "language": "python",
   "name": "python3"
  },
  "language_info": {
   "codemirror_mode": {
    "name": "ipython",
    "version": 3
   },
   "file_extension": ".py",
   "mimetype": "text/x-python",
   "name": "python",
   "nbconvert_exporter": "python",
   "pygments_lexer": "ipython3",
   "version": "3.11.5"
  }
 },
 "nbformat": 4,
 "nbformat_minor": 5
}
