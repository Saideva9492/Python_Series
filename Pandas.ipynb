{
 "cells": [
  {
   "cell_type": "code",
   "execution_count": 133,
   "id": "8997fc6d-89e5-457d-8627-4b49b9e55305",
   "metadata": {},
   "outputs": [
    {
     "name": "stdout",
     "output_type": "stream",
     "text": [
      "Requirement already satisfied: pandas in c:\\users\\user\\appdata\\local\\programs\\python\\python312\\lib\\site-packages (2.2.2)\n",
      "Requirement already satisfied: numpy>=1.26.0 in c:\\users\\user\\appdata\\local\\programs\\python\\python312\\lib\\site-packages (from pandas) (2.0.0)\n",
      "Requirement already satisfied: python-dateutil>=2.8.2 in c:\\users\\user\\appdata\\local\\programs\\python\\python312\\lib\\site-packages (from pandas) (2.9.0.post0)\n",
      "Requirement already satisfied: pytz>=2020.1 in c:\\users\\user\\appdata\\local\\programs\\python\\python312\\lib\\site-packages (from pandas) (2024.1)\n",
      "Requirement already satisfied: tzdata>=2022.7 in c:\\users\\user\\appdata\\local\\programs\\python\\python312\\lib\\site-packages (from pandas) (2024.1)\n",
      "Requirement already satisfied: six>=1.5 in c:\\users\\user\\appdata\\local\\programs\\python\\python312\\lib\\site-packages (from python-dateutil>=2.8.2->pandas) (1.16.0)\n"
     ]
    },
    {
     "name": "stderr",
     "output_type": "stream",
     "text": [
      "\n",
      "[notice] A new release of pip is available: 24.1.1 -> 24.1.2\n",
      "[notice] To update, run: python.exe -m pip install --upgrade pip\n"
     ]
    }
   ],
   "source": [
    "# Install the pandas library using pip\n",
    "!pip install pandas"
   ]
  },
  {
   "cell_type": "code",
   "execution_count": 134,
   "id": "53dc1ed9-a3ef-4a1f-bd92-e0070e3c4522",
   "metadata": {},
   "outputs": [
    {
     "ename": "SyntaxError",
     "evalue": "invalid syntax (676572543.py, line 2)",
     "output_type": "error",
     "traceback": [
      "\u001b[1;36m  Cell \u001b[1;32mIn[134], line 2\u001b[1;36m\u001b[0m\n\u001b[1;33m    pip install --upgrade pip\u001b[0m\n\u001b[1;37m        ^\u001b[0m\n\u001b[1;31mSyntaxError\u001b[0m\u001b[1;31m:\u001b[0m invalid syntax\n"
     ]
    }
   ],
   "source": [
    "# Upgrade pip to the latest version\n",
    "pip install --upgrade pip"
   ]
  },
  {
   "cell_type": "code",
   "execution_count": null,
   "id": "1a3990ec-ae69-4291-8299-82dc3908f2e2",
   "metadata": {},
   "outputs": [],
   "source": [
    "# Import the pandas library and alias it as pd\n",
    "import pandas as pd"
   ]
  },
  {
   "cell_type": "code",
   "execution_count": null,
   "id": "18baadc4-88ee-474d-9eb3-fba5c99340b2",
   "metadata": {},
   "outputs": [],
   "source": [
    "# Read a CSV file named \"data.tsv.txt\" using '@' as the separator and store it in the dataframe df\n",
    "df= pd.read_csv(\"data.tsv.txt\", sep=\"@\")"
   ]
  },
  {
   "cell_type": "code",
   "execution_count": null,
   "id": "0ba67869-fea3-4ef1-b416-600c618b672a",
   "metadata": {},
   "outputs": [],
   "source": [
    "# Display the first five rows of the dataframe df\n",
    "df.head()"
   ]
  },
  {
   "cell_type": "code",
   "execution_count": null,
   "id": "f329e420-368a-4804-bf65-3ebdbcdd2469",
   "metadata": {},
   "outputs": [],
   "source": [
    "# Read another CSV file named \"Sales Transactions-2017.csv\" and store it in the dataframe df_1\n",
    "df_1=pd.read_csv(\"Sales Transactions-2017.csv\")"
   ]
  },
  {
   "cell_type": "code",
   "execution_count": null,
   "id": "9595b450-cc66-43c1-821c-8164f4d8436a",
   "metadata": {},
   "outputs": [],
   "source": [
    "df_1.head()"
   ]
  },
  {
   "cell_type": "code",
   "execution_count": null,
   "id": "3dbe4c6b-17bb-46fe-8b1e-c6326a9ed21d",
   "metadata": {},
   "outputs": [],
   "source": [
    "# Display the first five rows of the dataframe df_1\n",
    "\n",
    "df[\"choice_description\"].unique()"
   ]
  },
  {
   "cell_type": "code",
   "execution_count": null,
   "id": "6a4df441-bf04-42d2-b0ce-39717f192189",
   "metadata": {},
   "outputs": [],
   "source": [
    "# Get unique values from the \"choice_description\" column in the dataframe df\n",
    "df[\"choice_description\"].unique()"
   ]
  },
  {
   "cell_type": "code",
   "execution_count": null,
   "id": "378fd8f3-73b2-4a87-bea4-2e8fcca567a8",
   "metadata": {},
   "outputs": [],
   "source": [
    "# This tells us the number of unique elements present in it\n",
    "len(df[\"choice_description\"].unique())"
   ]
  },
  {
   "cell_type": "code",
   "execution_count": null,
   "id": "9d55bdce-a8c0-4449-a396-d70715e04a6f",
   "metadata": {},
   "outputs": [],
   "source": [
    "#Get the number of unique values in the \"choice_description\" column of the dataframe df\n",
    "df[\"choice_description\"].nunique()"
   ]
  },
  {
   "cell_type": "code",
   "execution_count": null,
   "id": "644c6ffd-1530-4a5e-ad35-302ba2117d13",
   "metadata": {},
   "outputs": [],
   "source": [
    "df.head(5)"
   ]
  },
  {
   "cell_type": "code",
   "execution_count": null,
   "id": "5ab1b3c5-c29b-4d6f-ab66-9abaeb12d211",
   "metadata": {},
   "outputs": [],
   "source": [
    "# Access the \"item_price\" column of the dataframe df\n",
    "df[\"item_price\"]"
   ]
  },
  {
   "cell_type": "code",
   "execution_count": null,
   "id": "576dc3ab-0eba-4242-b8a6-ca292576f93f",
   "metadata": {},
   "outputs": [],
   "source": []
  },
  {
   "cell_type": "code",
   "execution_count": null,
   "id": "eface127-63b6-465e-a1a1-3387e39e9a49",
   "metadata": {},
   "outputs": [],
   "source": [
    "# Read a CSV file named \"Euro_2012_stats_TEAM.csv\" and store it in the dataframe df_2\n",
    "df_2=pd.read_csv(\"Euro_2012_stats_TEAM.csv\")"
   ]
  },
  {
   "cell_type": "code",
   "execution_count": null,
   "id": "1479629d-08e0-4a20-8c46-1d2b0745c536",
   "metadata": {},
   "outputs": [],
   "source": [
    "df_2.head()"
   ]
  },
  {
   "cell_type": "code",
   "execution_count": null,
   "id": "8f3a1c30-2603-4f71-8eb4-8cefe81118a4",
   "metadata": {},
   "outputs": [],
   "source": [
    "# Get the shape (number of rows and columns) of the dataframe df_2\n",
    "df_2.shape"
   ]
  },
  {
   "cell_type": "code",
   "execution_count": null,
   "id": "b51652e4-37a4-4b67-9339-0a1c304cd735",
   "metadata": {},
   "outputs": [],
   "source": [
    "# Get the data types of each column in the dataframe df_2\n",
    "df_2.dtypes"
   ]
  },
  {
   "cell_type": "code",
   "execution_count": null,
   "id": "9be26304-6e19-4f4e-93d7-18d0686cb243",
   "metadata": {},
   "outputs": [],
   "source": [
    "# Get the number of missing values in each column of the dataframe df_2\n",
    "df_2.isnull().sum()"
   ]
  },
  {
   "cell_type": "code",
   "execution_count": null,
   "id": "e0cd2f07-4ed6-41bc-b434-8079b02fef95",
   "metadata": {},
   "outputs": [],
   "source": [
    "# Get a concise summary of the dataframe df_2\n",
    "df_2.info()"
   ]
  },
  {
   "cell_type": "code",
   "execution_count": null,
   "id": "d40f957c-8dfa-4373-bb87-2dd29f9f3696",
   "metadata": {},
   "outputs": [],
   "source": [
    "# Create a boolean mask for rows where the \"Goals\" column is greater than 5 \n",
    "df_2[\"Goals\"]>5"
   ]
  },
  {
   "cell_type": "code",
   "execution_count": null,
   "id": "bd77b42c-a1f6-4f43-ac34-8cad823594e8",
   "metadata": {},
   "outputs": [],
   "source": [
    "# Filter the dataframe df_2 for rows where the \"Goals\" column is greater than 5\n",
    "df_2[df_2[\"Goals\"]>5]"
   ]
  },
  {
   "cell_type": "code",
   "execution_count": null,
   "id": "599380f9-eae1-48ed-bc36-d00e2e142656",
   "metadata": {},
   "outputs": [],
   "source": [
    "# Create a boolean mask for rows where the \"Shots on target\" column is less than 20\n",
    "df_2['Shots on target']<20"
   ]
  },
  {
   "cell_type": "code",
   "execution_count": null,
   "id": "a75cddaa-f136-470c-9133-7df47896964e",
   "metadata": {},
   "outputs": [],
   "source": [
    "# Filter the dataframe df_2 for rows where the \"Shots on target\" column is less than 20\n",
    "df_2[df_2['Shots on target'] < 20]\n"
   ]
  },
  {
   "cell_type": "code",
   "execution_count": null,
   "id": "6eed0b54-b555-436e-976b-b52d3d0e1f04",
   "metadata": {},
   "outputs": [],
   "source": [
    "df_2['Team','Goals','Yellow Cards','Red Cards']"
   ]
  },
  {
   "cell_type": "code",
   "execution_count": null,
   "id": "8a3fd033-1592-49ed-9c97-ca73da42c83b",
   "metadata": {},
   "outputs": [],
   "source": [
    "#Select the \"Team\", \"Goals\", \"Yellow Cards\", and \"Red Cards\" columns from the dataframe df_2\n",
    "df_2[['Team', 'Goals', 'Yellow Cards', 'Red Cards']]\n"
   ]
  },
  {
   "cell_type": "code",
   "execution_count": null,
   "id": "51eea26a-f171-45b2-a2ec-dde6f205b351",
   "metadata": {},
   "outputs": [],
   "source": [
    "# Filter the dataframe df_2 for rows where the \"Team\" column is 'France'\n",
    "df_2[df_2[\"Team\"] == 'France']\n",
    "\n"
   ]
  },
  {
   "cell_type": "code",
   "execution_count": null,
   "id": "807b9eea-7e9d-4309-b996-09a65200c3cc",
   "metadata": {},
   "outputs": [],
   "source": [
    "df_2.head()"
   ]
  },
  {
   "cell_type": "code",
   "execution_count": null,
   "id": "7659f323-be98-4d28-aee0-e3f5e2c78d16",
   "metadata": {},
   "outputs": [],
   "source": [
    "# Sort the dataframe df_2 by the \"Goals\" column in descending order\n",
    "df_2.sort_values(by=\"Goals\",ascending= False)"
   ]
  },
  {
   "cell_type": "code",
   "execution_count": null,
   "id": "41c06a5c-8aca-4c09-ae6c-0467da6cf945",
   "metadata": {},
   "outputs": [],
   "source": [
    "# Sort the dataframe df_2 by the \"Yellow Cards\" column in descending order\n",
    "df_2.sort_values(by=\"Yellow Cards\", ascending=False)\n"
   ]
  },
  {
   "cell_type": "code",
   "execution_count": null,
   "id": "9d84c973-4735-4a16-bb2a-bd3a2653acc8",
   "metadata": {},
   "outputs": [],
   "source": [
    "# Create a boolean mask for rows where the \"Yellow Cards\" column is greater than 8\n",
    "df_2['Yellow Cards'] > 8\n"
   ]
  },
  {
   "cell_type": "code",
   "execution_count": null,
   "id": "c6e645cf-c68e-4648-9c88-8f50754577c5",
   "metadata": {},
   "outputs": [],
   "source": [
    "# Filter the dataframe df_2 for rows where the \"Yellow Cards\" column is greater than 8\n",
    "df_2[df_2['Yellow Cards']>8]"
   ]
  },
  {
   "cell_type": "code",
   "execution_count": null,
   "id": "49a2fd02-c9a1-44a6-848f-d19c43dcbb1e",
   "metadata": {},
   "outputs": [],
   "source": [
    "df_2[df_2['Goals']>5]"
   ]
  },
  {
   "cell_type": "code",
   "execution_count": null,
   "id": "a145e783-aef6-497c-866d-b9a4660f0828",
   "metadata": {},
   "outputs": [],
   "source": [
    "# Filter the dataframe df_2 for rows where the \"Goals\" column is greater than 5\n",
    "(df_2['Yellow Cards']>8) & (df_2['Goals']>5)"
   ]
  },
  {
   "cell_type": "code",
   "execution_count": null,
   "id": "02fd6732-766a-4f23-a877-f7725744d250",
   "metadata": {},
   "outputs": [],
   "source": [
    "# Create a boolean mask for rows where the \"Yellow Cards\" column is greater than 8 and the \"Goals\" column is greater than 5\n",
    "df_2[(df_2['Yellow Cards']>8) | (df_2['Goals']>5)]"
   ]
  },
  {
   "cell_type": "code",
   "execution_count": null,
   "id": "409db109-2138-432f-8b74-092535bfa421",
   "metadata": {},
   "outputs": [],
   "source": [
    "# Select the first 10 rows and the first 5 columns from the dataframe df_2\n",
    "df_2.iloc[0:10,0:5]"
   ]
  },
  {
   "cell_type": "code",
   "execution_count": null,
   "id": "1c378a48-0cf1-4a91-a2e1-b0195524d39f",
   "metadata": {},
   "outputs": [],
   "source": [
    "# Select rows with indices 2 and 3 from the dataframe df_2\n",
    "df_2.loc[[2,3]]"
   ]
  },
  {
   "cell_type": "code",
   "execution_count": null,
   "id": "1db8a7d0-3357-4b35-b7b8-91540f537b7d",
   "metadata": {},
   "outputs": [],
   "source": [
    "# Delete the \"Shooting Accuracy\" column from the dataframe df_2\n",
    "del df_2['Shooting Accuracy']"
   ]
  },
  {
   "cell_type": "code",
   "execution_count": null,
   "id": "5abf8645-6b06-4efc-866d-5be34786eeea",
   "metadata": {},
   "outputs": [],
   "source": [
    "df_2.head()"
   ]
  },
  {
   "cell_type": "code",
   "execution_count": null,
   "id": "66967e8a-0e23-4c1a-8dfe-2b9e5a7a6d16",
   "metadata": {},
   "outputs": [],
   "source": [
    "# Drop the \"Offsides\" column from the dataframe df_2 and update the dataframe\n",
    "df_2=df_2.drop(labels='Offsides',axis=1)"
   ]
  },
  {
   "cell_type": "code",
   "execution_count": null,
   "id": "720ff85c-047a-4678-b687-a88dec4ae34a",
   "metadata": {},
   "outputs": [],
   "source": [
    "df_2.head()"
   ]
  },
  {
   "cell_type": "code",
   "execution_count": null,
   "id": "66432fe4-bcf5-4718-86cc-b0fe40b0cd6e",
   "metadata": {},
   "outputs": [],
   "source": []
  },
  {
   "cell_type": "code",
   "execution_count": null,
   "id": "1a5fdd0c-f92e-4f7c-9094-cc4da1d5b43d",
   "metadata": {},
   "outputs": [],
   "source": []
  },
  {
   "cell_type": "code",
   "execution_count": null,
   "id": "79490db9-fb47-416e-91be-307f2a409ab7",
   "metadata": {},
   "outputs": [],
   "source": [
    "a=[10,20,30,40]\n",
    "type(a)"
   ]
  },
  {
   "cell_type": "code",
   "execution_count": null,
   "id": "29ef8a4c-864e-4b6f-8e91-293ad7a0ca8b",
   "metadata": {},
   "outputs": [],
   "source": [
    "#convert it  in to series\n",
    "b=pd.Series(a)"
   ]
  },
  {
   "cell_type": "code",
   "execution_count": null,
   "id": "c820f965-62d3-4988-8f9c-7c83ad3d0105",
   "metadata": {},
   "outputs": [],
   "source": [
    "type(b)"
   ]
  },
  {
   "cell_type": "code",
   "execution_count": null,
   "id": "ec77dedb-caa8-47d1-b160-784b834e4057",
   "metadata": {},
   "outputs": [],
   "source": [
    "learner_list={'Name':['sai',\"Deva\",\"Daniel\"], 'University':[ \"Fau\" ,\"UNT\",\"NJIT\"]}\n",
    "learner_list"
   ]
  },
  {
   "cell_type": "code",
   "execution_count": null,
   "id": "a1ada309-23df-4d19-a717-f206dcdeec72",
   "metadata": {},
   "outputs": [],
   "source": [
    "df_learner=pd.DataFrame(learner_list)\n",
    "df_learner"
   ]
  },
  {
   "cell_type": "code",
   "execution_count": null,
   "id": "6fcfb713-ae0d-42de-a188-56672563040d",
   "metadata": {},
   "outputs": [],
   "source": [
    "type(df_learner)"
   ]
  },
  {
   "cell_type": "code",
   "execution_count": null,
   "id": "00b5f39a-fd7d-4e3e-a4a1-632071da55e7",
   "metadata": {},
   "outputs": [],
   "source": [
    "#Python documentation"
   ]
  },
  {
   "cell_type": "code",
   "execution_count": null,
   "id": "cd07be85-d898-4850-852b-9d1977c178bb",
   "metadata": {},
   "outputs": [],
   "source": [
    "df_3=pd.read_csv(\"student-mat.csv\")\n",
    "df_3"
   ]
  },
  {
   "cell_type": "code",
   "execution_count": null,
   "id": "45175296-1a56-474c-b149-1850f33bd85b",
   "metadata": {},
   "outputs": [],
   "source": [
    "df_3.dtypes"
   ]
  },
  {
   "cell_type": "code",
   "execution_count": null,
   "id": "7e136a57-48ab-4b1b-b211-57bd9f5f4625",
   "metadata": {},
   "outputs": [],
   "source": [
    "df_3.isnull().sum()"
   ]
  },
  {
   "cell_type": "code",
   "execution_count": null,
   "id": "f3eb01f5-08a9-423c-bf36-63c67a065c83",
   "metadata": {},
   "outputs": [],
   "source": [
    "df_3[\"age\"]=df_3[\"age\"]+2"
   ]
  },
  {
   "cell_type": "code",
   "execution_count": null,
   "id": "0125132f-bdb0-4116-99e0-4e927b28563d",
   "metadata": {},
   "outputs": [],
   "source": [
    "df_3\n"
   ]
  },
  {
   "cell_type": "code",
   "execution_count": null,
   "id": "36b99692-410e-44ac-8338-618d50d1b595",
   "metadata": {},
   "outputs": [],
   "source": [
    "df_3['famrel']= df_3['famrel']+2\n",
    "df_3['famrel']"
   ]
  },
  {
   "cell_type": "code",
   "execution_count": null,
   "id": "c018c2f6-c60a-4015-9287-39acf95ee118",
   "metadata": {},
   "outputs": [],
   "source": [
    "df_3"
   ]
  },
  {
   "cell_type": "code",
   "execution_count": null,
   "id": "cc3fb35c-a43f-477d-8f00-bd19e7fa6c03",
   "metadata": {},
   "outputs": [],
   "source": []
  },
  {
   "cell_type": "code",
   "execution_count": null,
   "id": "864718b3-5d14-4d00-a038-713a2e34c24f",
   "metadata": {},
   "outputs": [],
   "source": [
    "df_3['Mjob'].upper"
   ]
  },
  {
   "cell_type": "code",
   "execution_count": null,
   "id": "b12b943a-983c-41ea-a934-dc4de5ad8d41",
   "metadata": {},
   "outputs": [],
   "source": [
    "df_3['Mjob'].str.upper()"
   ]
  },
  {
   "cell_type": "code",
   "execution_count": null,
   "id": "1d56dd01-91fa-454e-bdd5-21f6e9da9331",
   "metadata": {},
   "outputs": [],
   "source": [
    "df_3.['Mjob']"
   ]
  },
  {
   "cell_type": "code",
   "execution_count": null,
   "id": "34197720-8fa6-4cbb-8e67-c51a0f3f0db8",
   "metadata": {},
   "outputs": [],
   "source": []
  },
  {
   "cell_type": "markdown",
   "id": "03f66cf4-1571-46f9-8557-58d449a844f8",
   "metadata": {},
   "source": [
    "### Create a new column \"Eligibility_Criteria\" if age is > 18 Eligibile (1) else not Eligibile(0)"
   ]
  },
  {
   "cell_type": "code",
   "execution_count": null,
   "id": "6533fb03-e5e9-4aa3-9279-c5a76a542f8f",
   "metadata": {},
   "outputs": [],
   "source": [
    "df_3['Eligiblity_Criteria']=df_3['age'].apply(lambda x:1 if x >= 18 else 0)"
   ]
  },
  {
   "cell_type": "code",
   "execution_count": null,
   "id": "2f80b2e6-3f99-496a-8e83-3fff06edf3f6",
   "metadata": {},
   "outputs": [],
   "source": [
    "df_3['Eligiblity_Criteria']"
   ]
  },
  {
   "cell_type": "code",
   "execution_count": null,
   "id": "a1cd6971-c0d4-4a76-8d21-8a6037797d33",
   "metadata": {},
   "outputs": [],
   "source": [
    "df_eleigible=df_3['Eligiblity_Criteria']>1"
   ]
  },
  {
   "cell_type": "code",
   "execution_count": null,
   "id": "56da0582-131f-4b0c-9b5c-6f9edd9cd48f",
   "metadata": {},
   "outputs": [],
   "source": [
    "df_eleigible\n"
   ]
  },
  {
   "cell_type": "code",
   "execution_count": null,
   "id": "4b401b36-ae87-4a48-baca-586f0261a917",
   "metadata": {},
   "outputs": [],
   "source": [
    "insurance_df=pd.read_csv(\"insurance.csv\")\n",
    "insurance_df"
   ]
  },
  {
   "cell_type": "code",
   "execution_count": null,
   "id": "c7fb2675-a8bf-47d4-8418-b8d5cdef9bee",
   "metadata": {},
   "outputs": [],
   "source": [
    "insurance_df[\"region\"].unique()"
   ]
  },
  {
   "cell_type": "code",
   "execution_count": null,
   "id": "15afb6de-eee8-4a9d-b89c-7597b7b0d2ac",
   "metadata": {},
   "outputs": [],
   "source": []
  }
 ],
 "metadata": {
  "kernelspec": {
   "display_name": "Python 3 (ipykernel)",
   "language": "python",
   "name": "python3"
  },
  "language_info": {
   "codemirror_mode": {
    "name": "ipython",
    "version": 3
   },
   "file_extension": ".py",
   "mimetype": "text/x-python",
   "name": "python",
   "nbconvert_exporter": "python",
   "pygments_lexer": "ipython3",
   "version": "3.12.4"
  }
 },
 "nbformat": 4,
 "nbformat_minor": 5
}
