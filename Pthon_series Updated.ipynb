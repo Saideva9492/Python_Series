{
 "cells": [
  {
   "cell_type": "markdown",
   "id": "a4eb22cc",
   "metadata": {},
   "source": [
    "# Chapter 1"
   ]
  },
  {
   "cell_type": "markdown",
   "id": "d224f2e9",
   "metadata": {},
   "source": [
    "## Variables:\n",
    "\n",
    "*  Variables are used to store data in a program.\n",
    "*  They're like containers that hold information which can be referenced and manipulated.\n",
    "*  In Python, you don’t need to declare the type of variable; you just assign a value to it.\n"
   ]
  },
  {
   "cell_type": "markdown",
   "id": "8446a495",
   "metadata": {},
   "source": [
    "### Rules of Declaring a Variable:\n",
    "\n",
    "\n",
    "* Must begin with a letter (a-z, A-Z) or an underscore (_).\n",
    "* Other characters can be letters, numbers, or underscores.\n",
    "* Variable names are case-sensitive.\n",
    "* Cannot be a reserved word (e.g., if, else, for).\n",
    "* Examples: age, _name, address123\n"
   ]
  },
  {
   "cell_type": "code",
   "execution_count": 31,
   "id": "73d431c0",
   "metadata": {},
   "outputs": [
    {
     "name": "stdout",
     "output_type": "stream",
     "text": [
      "Hi Welocome to Nasirs Class\n"
     ]
    }
   ],
   "source": [
    "print(\"Hi Welocome to Nasirs Class\")"
   ]
  },
  {
   "cell_type": "code",
   "execution_count": 19,
   "id": "256da549",
   "metadata": {},
   "outputs": [],
   "source": [
    "a=10"
   ]
  },
  {
   "cell_type": "code",
   "execution_count": 20,
   "id": "0516269e",
   "metadata": {},
   "outputs": [
    {
     "name": "stdout",
     "output_type": "stream",
     "text": [
      "10\n"
     ]
    }
   ],
   "source": [
    "print(a)"
   ]
  },
  {
   "cell_type": "code",
   "execution_count": 160,
   "id": "6339cee3",
   "metadata": {},
   "outputs": [
    {
     "data": {
      "text/plain": [
       "200"
      ]
     },
     "execution_count": 160,
     "metadata": {},
     "output_type": "execute_result"
    }
   ],
   "source": [
    "a=200\n",
    "b=3000\n",
    "b\n",
    "a"
   ]
  },
  {
   "cell_type": "code",
   "execution_count": 32,
   "id": "e48d750f",
   "metadata": {},
   "outputs": [],
   "source": [
    "price=10\n",
    "\n"
   ]
  },
  {
   "cell_type": "code",
   "execution_count": 33,
   "id": "1b6c7e27",
   "metadata": {},
   "outputs": [
    {
     "name": "stdout",
     "output_type": "stream",
     "text": [
      "10 $\n"
     ]
    }
   ],
   "source": [
    "print(f'{price} $' )"
   ]
  },
  {
   "cell_type": "code",
   "execution_count": 36,
   "id": "3e684f44",
   "metadata": {},
   "outputs": [],
   "source": [
    "_a=10"
   ]
  },
  {
   "cell_type": "code",
   "execution_count": 38,
   "id": "6d65d452",
   "metadata": {},
   "outputs": [
    {
     "data": {
      "text/plain": [
       "int"
      ]
     },
     "execution_count": 38,
     "metadata": {},
     "output_type": "execute_result"
    }
   ],
   "source": [
    "type(a)"
   ]
  },
  {
   "cell_type": "code",
   "execution_count": 39,
   "id": "007df8aa",
   "metadata": {},
   "outputs": [],
   "source": [
    "# print(\"A\")"
   ]
  },
  {
   "cell_type": "code",
   "execution_count": 40,
   "id": "d0c9fe9c",
   "metadata": {},
   "outputs": [],
   "source": [
    "b=1.5"
   ]
  },
  {
   "cell_type": "markdown",
   "id": "ad00f342-752d-41dd-9749-581bc45e69d0",
   "metadata": {},
   "source": [
    "##### Lower_case - Upper_case"
   ]
  },
  {
   "cell_type": "code",
   "execution_count": 64,
   "id": "de892da9-9f5e-49c1-a674-b4b05097d5cd",
   "metadata": {},
   "outputs": [],
   "source": [
    "First_name= \" DEVA \""
   ]
  },
  {
   "cell_type": "code",
   "execution_count": 65,
   "id": "50344262",
   "metadata": {},
   "outputs": [],
   "source": [
    "First_name=First_name.lower()"
   ]
  },
  {
   "cell_type": "code",
   "execution_count": 66,
   "id": "4f6ae963",
   "metadata": {},
   "outputs": [
    {
     "data": {
      "text/plain": [
       "' deva '"
      ]
     },
     "execution_count": 66,
     "metadata": {},
     "output_type": "execute_result"
    }
   ],
   "source": [
    "First_name"
   ]
  },
  {
   "cell_type": "code",
   "execution_count": 67,
   "id": "63f0eb2a",
   "metadata": {},
   "outputs": [
    {
     "data": {
      "text/plain": [
       "' DEVA '"
      ]
     },
     "execution_count": 67,
     "metadata": {},
     "output_type": "execute_result"
    }
   ],
   "source": [
    "First_name.upper()"
   ]
  },
  {
   "cell_type": "code",
   "execution_count": 73,
   "id": "6dd52f4a",
   "metadata": {},
   "outputs": [
    {
     "data": {
      "text/plain": [
       "0"
      ]
     },
     "execution_count": 73,
     "metadata": {},
     "output_type": "execute_result"
    }
   ],
   "source": [
    "First_name.count('D')"
   ]
  },
  {
   "cell_type": "code",
   "execution_count": 71,
   "id": "0c195c5b",
   "metadata": {},
   "outputs": [
    {
     "data": {
      "text/plain": [
       "' deva '"
      ]
     },
     "execution_count": 71,
     "metadata": {},
     "output_type": "execute_result"
    }
   ],
   "source": [
    "First_name"
   ]
  },
  {
   "cell_type": "code",
   "execution_count": 72,
   "id": "2b75c80d",
   "metadata": {},
   "outputs": [
    {
     "data": {
      "text/plain": [
       "0"
      ]
     },
     "execution_count": 72,
     "metadata": {},
     "output_type": "execute_result"
    }
   ],
   "source": [
    "First_name.count('N')"
   ]
  },
  {
   "cell_type": "code",
   "execution_count": null,
   "id": "8c75e11c",
   "metadata": {},
   "outputs": [],
   "source": []
  },
  {
   "cell_type": "markdown",
   "id": "7c4677c3",
   "metadata": {},
   "source": [
    "# Python Comments:\n",
    "\n",
    "### Comments are used to explain code and make it more readable. They are ignored by the Python interpreter.\n"
   ]
  },
  {
   "cell_type": "code",
   "execution_count": 162,
   "id": "227b27c2",
   "metadata": {},
   "outputs": [
    {
     "data": {
      "text/plain": [
       "'\\nThis is a\\nmulti-line comment\\n'"
      ]
     },
     "execution_count": 162,
     "metadata": {},
     "output_type": "execute_result"
    }
   ],
   "source": [
    "# This is a single-line comment\n",
    "'''\n",
    "This is a\n",
    "multi-line comment\n",
    "'''\n"
   ]
  },
  {
   "cell_type": "markdown",
   "id": "ff98e22c",
   "metadata": {},
   "source": [
    "# Operators\n",
    "\n",
    "#####  \"Operators are used to perform operations on variables and values. There are different types of operators in Python:"
   ]
  },
  {
   "cell_type": "markdown",
   "id": "5ebe3bea-fb01-4fbb-9292-e9c7229a6c0b",
   "metadata": {},
   "source": [
    "* Arithmetic operators like +, -, *, / for mathematical operations.\n",
    "* Comparison operators like ==, !=, >, < to compare values.\n",
    "* Logical operators like and, or, not for boolean logic.\n",
    "* Assignment operators like =, +=, -= to assign values to variables.\n",
    "* Each operator has a specific function and is essential for creating meaningful expressions in your code.\""
   ]
  },
  {
   "cell_type": "markdown",
   "id": "df5c5005",
   "metadata": {},
   "source": [
    "Operators in Python\n",
    "Operators in Python are symbols used to perform operations on variables and values. They are essential for creating meaningful expressions in code. Here are the different types of operators covered in this section:\n",
    "\n",
    "\n",
    "\n"
   ]
  },
  {
   "cell_type": "markdown",
   "id": "76286a08",
   "metadata": {},
   "source": [
    "# Arithmetic operators"
   ]
  },
  {
   "cell_type": "code",
   "execution_count": 145,
   "id": "78bd9e87",
   "metadata": {},
   "outputs": [
    {
     "name": "stdout",
     "output_type": "stream",
     "text": [
      "13\n",
      "7\n",
      "30\n",
      "3.3333333333333335\n",
      "1\n",
      "1000\n",
      "3\n"
     ]
    }
   ],
   "source": [
    "# Arithmetic Operators\n",
    "a = 10\n",
    "b = 3\n",
    "print(a + b)  # 13\n",
    "print(a - b)  # 7\n",
    "print(a * b)  # 30\n",
    "print(a / b)  # 3.333\n",
    "print(a % b)  # 1\n",
    "print(a ** b) # 1000\n",
    "print(a // b) # 3\n",
    "\n"
   ]
  },
  {
   "cell_type": "markdown",
   "id": "16bc88c3",
   "metadata": {},
   "source": [
    "# 2. Comparison Operators:\n",
    "\n",
    "\n",
    "\n",
    "  * == (Equal to): Checks if two values are equal.\n",
    "  * != (Not equal to): Checks if two values are not equal.\n",
    "* >(Greater than): Checks if the left value is greater than the right.\n",
    "  * < (Less than): Checks if the left value is less than the right.\n"
   ]
  },
  {
   "cell_type": "code",
   "execution_count": 31,
   "id": "a3bff63a",
   "metadata": {},
   "outputs": [
    {
     "data": {
      "text/plain": [
       "True"
      ]
     },
     "execution_count": 31,
     "metadata": {},
     "output_type": "execute_result"
    }
   ],
   "source": [
    " # Examples:\n",
    "\n",
    "\n",
    "a = 10\n",
    "\n",
    "# Comparison\n",
    "a == 10  # True\n"
   ]
  },
  {
   "cell_type": "markdown",
   "id": "2ceaaefd",
   "metadata": {},
   "source": [
    "#3. Assignment Operators\n",
    "# Assignment operators are used to assign values to variables.\n",
    "\n",
    "Assignment (=): Assigns a value to a variable.\n",
    "Example: x = 5\n",
    "\n",
    "Add and assign (+=): \n",
    "Adds and assigns the value.\n",
    "Example: \n",
    "x += 3 (equivalent to x = x + 3)\n",
    "\n",
    "Subtract and assign (-=):\n",
    " Subtracts and assigns the value.\n",
    "Example: \n",
    "x -= 3 (equivalent to x = x - 3)\n",
    "\n",
    "Multiply and assign (*=):\n",
    " Multiplies and assigns the value.\n",
    "Example: \n",
    "x *= 3 (equivalent to x = x * 3)\n",
    "\n",
    "Divide and assign (/=):\n",
    " Divides and assigns the value.\n",
    "Example:\n",
    "x /= 3 (equivalent to x = x / 3)\n",
    "\n",
    "Modulus and assign (%=): \n",
    "Performs modulus and assigns the value.\n",
    "Example:\n",
    " x %= 3 (equivalent to x = x % 3)\n",
    "\n",
    "Exponentiation and assign (=)**:\n",
    " Raises to the power and assigns the value.\n",
    "Example: \n",
    "x **= 3 (equivalent to x = x ** 3)\n",
    "\n",
    "Floor Division and assign (//=):\n",
    " Performs floor division and assigns the value.\n",
    "Example: \n",
    "x //= 3 (equivalent to x = x // 3)\n",
    "    \n",
    "    \n"
   ]
  },
  {
   "cell_type": "markdown",
   "id": "2852d99b",
   "metadata": {},
   "source": [
    "# Logical Operators\n",
    "Logical operators are used to perform logical operations.\n",
    "\n",
    "And (and): Returns True if both statements are true.\n",
    "Example: \n",
    "\n",
    "x > 3 and x < 10\n",
    "    \n",
    "Or (or): Returns True if one of the statements is true.\n",
    "Example: x > 3 or x < 4\n",
    "    \n",
    "Not (not): Reverses the result, returns False if the result is true.\n",
    "Example: not(x > 3 and x < 10)\n"
   ]
  },
  {
   "cell_type": "markdown",
   "id": "e34ee22d",
   "metadata": {},
   "source": [
    "# Bitwise Operators\n",
    "Bitwise operators are used to perform bit-level operations.\n",
    "\n",
    "AND (&): \n",
    "Sets each bit to 1 if both bits are 1.\n",
    "Example: \n",
    "    5 & 3 results in 1\n",
    "    \n",
    "OR (|): \n",
    "    Sets each bit to 1 if one of two bits is 1.\n",
    "Example:\n",
    "    5 | 3 results in 7\n",
    "    \n",
    "XOR (^):\n",
    "    Sets each bit to 1 if only one of two bits is 1.\n",
    "Example:\n",
    "    5 ^ 3 results in 6\n",
    "    \n",
    "NOT (~):\n",
    "    Inverts all the bits.\n",
    "Example: \n",
    "    ~5 results in -6\n",
    "    \n",
    "Left Shift (<<): \n",
    "    Shifts bits to the left.\n",
    "Example:\n",
    "    5 << 1 results in 10\n",
    "    \n",
    "Right Shift (>>):\n",
    "    Shifts bits to the right.\n",
    "Example: \n",
    "    5 >> 1 results in 2\n"
   ]
  },
  {
   "cell_type": "markdown",
   "id": "9859b259",
   "metadata": {},
   "source": []
  },
  {
   "cell_type": "markdown",
   "id": "6caefd75",
   "metadata": {},
   "source": [
    "# Membership Operators\n",
    "\n",
    "Membership operators are used to test if a sequence is presented in an object.\n",
    "\n",
    "In: Returns True if a sequence with the specified value is present in the object.\n",
    "Example: \"a\" in \"apple\" is True\n",
    "Not in: Returns True if a sequence with the specified value is not present in the object.\n",
    "Example: \"a\" not in \"banana\" is False\n",
    "\n"
   ]
  },
  {
   "cell_type": "markdown",
   "id": "debabb16",
   "metadata": {},
   "source": [
    "# Identity Operators\n",
    "\n",
    "\n",
    "Identity operators are used to compare the objects,\n",
    "not if they are equal, but if they are actually the same object,\n",
    "with the same memory location.\n",
    "\n",
    "Is: Returns True if both variables are the same object.\n",
    "    \n",
    "Example: x is y\n",
    "    \n",
    "Is not: Returns True if both variables are not the same object.\n",
    "    \n",
    "Example: x is not y\n",
    "    \n",
    "Example:\n",
    "\n"
   ]
  },
  {
   "cell_type": "code",
   "execution_count": 155,
   "id": "bead8d9b",
   "metadata": {},
   "outputs": [
    {
     "name": "stdout",
     "output_type": "stream",
     "text": [
      "False\n",
      "True\n",
      "True\n",
      "False\n",
      "True\n",
      "False\n"
     ]
    }
   ],
   "source": [
    "# example for all the above:\n",
    "\n",
    "\n",
    "# Comparison Operators\n",
    "print(a == b)  # False\n",
    "print(a != b)  # True\n",
    "print(a > b)   # True\n",
    "print(a < b)   # False\n",
    "print(a >= b)  # True\n",
    "print(a <= b)  # False\n",
    "\n"
   ]
  },
  {
   "cell_type": "code",
   "execution_count": 154,
   "id": "42869421",
   "metadata": {},
   "outputs": [
    {
     "name": "stdout",
     "output_type": "stream",
     "text": [
      "7\n",
      "5\n"
     ]
    }
   ],
   "source": [
    "# Assignment Operators\n",
    "c = 5\n",
    "c += 2  # c = c + 2\n",
    "print(c)  # 7\n",
    "c -= 2  # c = c - 2\n",
    "print(c)  # 5\n",
    "\n"
   ]
  },
  {
   "cell_type": "code",
   "execution_count": 74,
   "id": "edf2747b",
   "metadata": {},
   "outputs": [
    {
     "name": "stdout",
     "output_type": "stream",
     "text": [
      "False\n",
      "True\n",
      "False\n"
     ]
    }
   ],
   "source": [
    "# Logical Operators\n",
    "x = True\n",
    "y = False\n",
    "print(x and y)  # false\n",
    "print(x or y)   # true\n",
    "print(not x)    # false\n",
    "\n"
   ]
  },
  {
   "cell_type": "code",
   "execution_count": 152,
   "id": "e32e90e7",
   "metadata": {},
   "outputs": [
    {
     "name": "stdout",
     "output_type": "stream",
     "text": [
      "2\n",
      "11\n",
      "9\n",
      "-11\n",
      "20\n",
      "5\n"
     ]
    }
   ],
   "source": [
    "# Bitwise Operators\n",
    "print(a & b)  # 2\n",
    "print(a | b)  # 11\n",
    "print(a ^ b)  # 9\n",
    "print(~a)     # -11\n",
    "print(a << 1) # 20\n",
    "print(a >> 1) # 5\n",
    "\n"
   ]
  },
  {
   "cell_type": "code",
   "execution_count": 150,
   "id": "907c7ca8",
   "metadata": {},
   "outputs": [
    {
     "name": "stdout",
     "output_type": "stream",
     "text": [
      "True\n",
      "True\n"
     ]
    }
   ],
   "source": [
    "# Membership Operators\n",
    "str1 = \"Hello\"\n",
    "print(\"H\" in str1)  # True\n",
    "print(\"Z\" not in str1)  # True\n",
    "\n",
    "\n",
    "\n"
   ]
  },
  {
   "cell_type": "code",
   "execution_count": 151,
   "id": "63183eb5",
   "metadata": {},
   "outputs": [
    {
     "name": "stdout",
     "output_type": "stream",
     "text": [
      "True\n",
      "False\n",
      "True\n"
     ]
    }
   ],
   "source": [
    "# Identity Operators\n",
    "x = [\"apple\", \"banana\"]\n",
    "y = [\"apple\", \"banana\"]\n",
    "z = x\n",
    "print(x is z)  # True\n",
    "print(x is y)  # False\n",
    "print(x == y)  # True\n"
   ]
  },
  {
   "cell_type": "markdown",
   "id": "3eef9105",
   "metadata": {},
   "source": [
    "* Few more examples:"
   ]
  },
  {
   "cell_type": "code",
   "execution_count": 57,
   "id": "7bda3174",
   "metadata": {},
   "outputs": [
    {
     "name": "stdout",
     "output_type": "stream",
     "text": [
      "Enter the first num10\n",
      "Enter the second num23\n",
      "1023\n"
     ]
    }
   ],
   "source": [
    "a=input(\"Enter the first num\")\n",
    "b=input(\"Enter the second num\")\n",
    "\n",
    "sum=a+b\n",
    "\n",
    "print(sum)"
   ]
  },
  {
   "cell_type": "code",
   "execution_count": 58,
   "id": "30586114",
   "metadata": {},
   "outputs": [
    {
     "name": "stdout",
     "output_type": "stream",
     "text": [
      "Enter the first num12\n",
      "Enter the second num12\n",
      "24\n"
     ]
    }
   ],
   "source": [
    "a=int(input(\"Enter the first num\"))\n",
    "b=int(input(\"Enter the second num\"))\n",
    "\n",
    "sum=a+b\n",
    "\n",
    "print(sum)"
   ]
  },
  {
   "cell_type": "code",
   "execution_count": 59,
   "id": "861ee156",
   "metadata": {},
   "outputs": [
    {
     "name": "stdout",
     "output_type": "stream",
     "text": [
      "Enter the first num12\n",
      "Enter the second num32\n",
      "44\n"
     ]
    }
   ],
   "source": [
    "a=input(\"Enter the first num\")\n",
    "b=input(\"Enter the second num\")\n",
    "\n",
    "sum=int(a)+int(b)\n",
    "\n",
    "print(sum)"
   ]
  },
  {
   "cell_type": "code",
   "execution_count": 60,
   "id": "5fcfc4b8",
   "metadata": {},
   "outputs": [],
   "source": [
    "First_name=\"Divya\""
   ]
  },
  {
   "cell_type": "code",
   "execution_count": 61,
   "id": "aa3e7d51",
   "metadata": {},
   "outputs": [],
   "source": [
    "Last_name=\"Prakash\""
   ]
  },
  {
   "cell_type": "code",
   "execution_count": 62,
   "id": "2529526b",
   "metadata": {},
   "outputs": [],
   "source": [
    "Full_name=First_name+ \" \"+Last_name"
   ]
  },
  {
   "cell_type": "code",
   "execution_count": 63,
   "id": "7a726028",
   "metadata": {},
   "outputs": [
    {
     "data": {
      "text/plain": [
       "'Divya Prakash'"
      ]
     },
     "execution_count": 63,
     "metadata": {},
     "output_type": "execute_result"
    }
   ],
   "source": [
    "Full_name"
   ]
  },
  {
   "cell_type": "code",
   "execution_count": 64,
   "id": "c00889bd",
   "metadata": {},
   "outputs": [
    {
     "name": "stdout",
     "output_type": "stream",
     "text": [
      "Welcome Divya Prakash to Nasir class\n"
     ]
    }
   ],
   "source": [
    "print('Welcome'+\" \"+ Full_name+\" \"+\"to Nasir class\")"
   ]
  },
  {
   "cell_type": "code",
   "execution_count": 65,
   "id": "b6181623",
   "metadata": {},
   "outputs": [
    {
     "name": "stdout",
     "output_type": "stream",
     "text": [
      "Welcome Divya Prakash to Nasir class\n"
     ]
    }
   ],
   "source": [
    "print('Welcome',Full_name,\"to Nasir class\")"
   ]
  },
  {
   "cell_type": "code",
   "execution_count": 66,
   "id": "b9efe594",
   "metadata": {},
   "outputs": [
    {
     "name": "stdout",
     "output_type": "stream",
     "text": [
      "Welcome Divya Prakash to Nasir's Class\n"
     ]
    }
   ],
   "source": [
    "print(f\"Welcome {Full_name} to Nasir's Class\")"
   ]
  },
  {
   "cell_type": "code",
   "execution_count": 67,
   "id": "64a58840",
   "metadata": {},
   "outputs": [],
   "source": [
    "age=12"
   ]
  },
  {
   "cell_type": "code",
   "execution_count": 68,
   "id": "48f95008",
   "metadata": {},
   "outputs": [
    {
     "name": "stdout",
     "output_type": "stream",
     "text": [
      "Welcome Divya Prakash to Nasir's Class you are 12 years old \n"
     ]
    }
   ],
   "source": [
    "print(f\"Welcome {Full_name} to Nasir's Class you are {age} years old \")"
   ]
  },
  {
   "cell_type": "code",
   "execution_count": 69,
   "id": "1df43ed7",
   "metadata": {},
   "outputs": [
    {
     "name": "stdout",
     "output_type": "stream",
     "text": [
      "Enter your First Name- SAIDEVA\n",
      "Enter your Last Name- NATHI\n",
      "Enter your age- 23\n",
      "Hello SAIDEVA NATHI welcome to class your are 23 years old and you'll be 43 in 20 years\n"
     ]
    }
   ],
   "source": [
    "first_name=input(\"Enter your First Name- \")\n",
    "last_name=input(\"Enter your Last Name- \")\n",
    "age=int(input(\"Enter your age- \"))\n",
    "full_name=(first_name + \" \" + last_name)\n",
    "\n",
    "print(f\"Hello {full_name} welcome to class your are {age} years old and you'll be {age+20} in 20 years\")"
   ]
  },
  {
   "cell_type": "code",
   "execution_count": null,
   "id": "508173ac-c566-4d52-b730-858f0df0b4e7",
   "metadata": {},
   "outputs": [],
   "source": []
  },
  {
   "cell_type": "markdown",
   "id": "ba4f652f",
   "metadata": {},
   "source": [
    "# Conditional Statements"
   ]
  },
  {
   "cell_type": "markdown",
   "id": "a88443f8",
   "metadata": {},
   "source": [
    "# IF"
   ]
  },
  {
   "cell_type": "code",
   "execution_count": 75,
   "id": "3760d336",
   "metadata": {},
   "outputs": [
    {
     "name": "stdout",
     "output_type": "stream",
     "text": [
      "Enter the age : 3\n",
      "You Can Enter\n"
     ]
    }
   ],
   "source": [
    "age=int(input(\"Enter the age : \"))\n",
    "\n",
    "R_age=10\n",
    "\n",
    "if age<R_age:\n",
    "    print(\"You Can Enter\")\n",
    "    \n"
   ]
  },
  {
   "cell_type": "markdown",
   "id": "c32b4878",
   "metadata": {},
   "source": [
    "# IF ELSE"
   ]
  },
  {
   "cell_type": "code",
   "execution_count": 76,
   "id": "460d61fd",
   "metadata": {},
   "outputs": [
    {
     "name": "stdout",
     "output_type": "stream",
     "text": [
      "Enter the age : 23\n",
      "you are 23 yers old so You cant enter Tata bye\n"
     ]
    }
   ],
   "source": [
    "age=int(input(\"Enter the age : \"))\n",
    "\n",
    "R_age=10\n",
    "\n",
    "if age<R_age:\n",
    "    print(\"You Can Enter\")\n",
    "    \n",
    "else:\n",
    "    print(f\"you are {age} yers old so You cant enter Tata bye\")"
   ]
  },
  {
   "cell_type": "markdown",
   "id": "dde90d1f",
   "metadata": {},
   "source": [
    "# If Elif else"
   ]
  },
  {
   "cell_type": "code",
   "execution_count": 78,
   "id": "0daf1218",
   "metadata": {
    "scrolled": true
   },
   "outputs": [
    {
     "name": "stdout",
     "output_type": "stream",
     "text": [
      "enter the first num: 23\n",
      "enter the Second num: 23\n",
      "b is equal to a \n"
     ]
    }
   ],
   "source": [
    "a=int(input(\"enter the first num: \"))\n",
    "b=int(input(\"enter the Second num: \"))\n",
    "if b>a:\n",
    "    print(\"b is Greater than a \")\n",
    "    \n",
    "elif b<a:\n",
    "    print(\"b is less then a\")\n",
    "\n",
    "else:\n",
    "    print(\"b is equal to a \")"
   ]
  },
  {
   "cell_type": "markdown",
   "id": "99b45483-5ffc-4379-9cbf-8a2c7364b853",
   "metadata": {},
   "source": [
    "# Nested if"
   ]
  },
  {
   "cell_type": "code",
   "execution_count": 79,
   "id": "d460032b-c45e-400b-bb86-9be464cd5a43",
   "metadata": {},
   "outputs": [
    {
     "name": "stdout",
     "output_type": "stream",
     "text": [
      "Enter the score: 70\n",
      "C\n"
     ]
    }
   ],
   "source": [
    "score=float(input(\"Enter the score: \"))\n",
    "\n",
    "if score>=90:\n",
    "    grade=\"A\"\n",
    "    \n",
    "else:\n",
    "    if score>=80:\n",
    "        grade=\"B\"\n",
    "    else:\n",
    "        \n",
    "        if score>=70:\n",
    "            grade=\"C\"\n",
    "        else:\n",
    "            grade=\"D\"\n",
    "print(grade)\n",
    "\n",
    "    "
   ]
  },
  {
   "cell_type": "code",
   "execution_count": null,
   "id": "c9e09e5e-41fb-49b9-9f10-55e963bd809a",
   "metadata": {},
   "outputs": [],
   "source": []
  },
  {
   "cell_type": "code",
   "execution_count": null,
   "id": "7f01b82e-81f6-475b-95ee-b0b1ff6d8e7d",
   "metadata": {},
   "outputs": [],
   "source": []
  },
  {
   "cell_type": "markdown",
   "id": "fc9de23a",
   "metadata": {},
   "source": [
    "# While "
   ]
  },
  {
   "cell_type": "code",
   "execution_count": 1,
   "id": "75cd6905",
   "metadata": {},
   "outputs": [
    {
     "name": "stdout",
     "output_type": "stream",
     "text": [
      "0\n",
      "1\n",
      "2\n",
      "3\n",
      "4\n",
      "5\n"
     ]
    }
   ],
   "source": [
    "i=0\n",
    "while i<6:\n",
    "    print(i)\n",
    "    i=i+1\n",
    "    "
   ]
  },
  {
   "cell_type": "code",
   "execution_count": null,
   "id": "2b4b203a",
   "metadata": {},
   "outputs": [],
   "source": [
    "a=[20,23,24,26,28,29]"
   ]
  },
  {
   "cell_type": "code",
   "execution_count": 76,
   "id": "75d07f5b",
   "metadata": {},
   "outputs": [
    {
     "name": "stdout",
     "output_type": "stream",
     "text": [
      "22\n",
      "hello\n",
      "25\n",
      "hello\n",
      "26\n",
      "hello\n",
      "28\n",
      "hello\n",
      "30\n",
      "hello\n",
      "31\n",
      "hello\n"
     ]
    }
   ],
   "source": [
    "i=2\n",
    "for i in a:\n",
    "    print(i+2)\n",
    "    print(\"hello\")"
   ]
  },
  {
   "cell_type": "markdown",
   "id": "b2fcbf60",
   "metadata": {},
   "source": [
    "# Break"
   ]
  },
  {
   "cell_type": "code",
   "execution_count": 2,
   "id": "8edf6cc7",
   "metadata": {},
   "outputs": [
    {
     "name": "stdout",
     "output_type": "stream",
     "text": [
      "0\n",
      "1\n",
      "2\n",
      "3\n",
      "4\n",
      "5\n",
      "6\n",
      "7\n",
      "8\n",
      "9\n",
      "10\n",
      "11\n",
      "12\n"
     ]
    }
   ],
   "source": [
    "i=0\n",
    "\n",
    "while i<50:\n",
    "    print(i)\n",
    "    \n",
    "    if i==12:\n",
    "        break\n",
    "        \n",
    "    i+=1"
   ]
  },
  {
   "cell_type": "code",
   "execution_count": 78,
   "id": "12fecac5",
   "metadata": {},
   "outputs": [
    {
     "name": "stdout",
     "output_type": "stream",
     "text": [
      "1\n",
      "2\n",
      "4\n",
      "5\n",
      "6\n"
     ]
    }
   ],
   "source": [
    "i=0\n",
    "\n",
    "while i<6:\n",
    "    i+=1\n",
    "    \n",
    "    if i == 3:\n",
    "        continue\n",
    "    print(i)"
   ]
  },
  {
   "cell_type": "markdown",
   "id": "bb909f38-fcf4-433e-a6a2-db311154cb95",
   "metadata": {},
   "source": [
    "# Funtions\n",
    "\n",
    "##### Functions are blocks of reusable code that perform specific tasks. \n",
    "##### They help you organize your code into modular sections, making it easier to read and maintain. \n",
    "##### You define a function using the def keyword, followed by the function name and parameters. Functions can return values using the return statement"
   ]
  },
  {
   "cell_type": "code",
   "execution_count": 4,
   "id": "664ac56b",
   "metadata": {},
   "outputs": [],
   "source": [
    "def add(x,y):\n",
    "    sum=x+y\n",
    "    return sum"
   ]
  },
  {
   "cell_type": "code",
   "execution_count": 5,
   "id": "9d06148f",
   "metadata": {},
   "outputs": [],
   "source": [
    "def fun_name(x,y):\n",
    "    sum=x+y\n",
    "    return sum"
   ]
  },
  {
   "cell_type": "code",
   "execution_count": 6,
   "id": "6ccf28c1",
   "metadata": {},
   "outputs": [
    {
     "data": {
      "text/plain": [
       "25"
      ]
     },
     "execution_count": 6,
     "metadata": {},
     "output_type": "execute_result"
    }
   ],
   "source": [
    "add(12,13)"
   ]
  },
  {
   "cell_type": "code",
   "execution_count": 80,
   "id": "60015bd1-7102-4b93-a28a-a8f6b3590f67",
   "metadata": {},
   "outputs": [
    {
     "data": {
      "text/plain": [
       "346"
      ]
     },
     "execution_count": 80,
     "metadata": {},
     "output_type": "execute_result"
    }
   ],
   "source": [
    "add(1,345)"
   ]
  },
  {
   "cell_type": "code",
   "execution_count": 81,
   "id": "5897581e",
   "metadata": {},
   "outputs": [
    {
     "data": {
      "text/plain": [
       "8"
      ]
     },
     "execution_count": 81,
     "metadata": {},
     "output_type": "execute_result"
    }
   ],
   "source": [
    "add(5,3)"
   ]
  },
  {
   "cell_type": "markdown",
   "id": "ed9e42fa",
   "metadata": {},
   "source": [
    "# Key Word Argument \n"
   ]
  },
  {
   "cell_type": "code",
   "execution_count": 4,
   "id": "36989192-9aeb-4f7a-af28-6a4c29ce3c08",
   "metadata": {},
   "outputs": [],
   "source": [
    "def greet(name, age):\n",
    "    print(f\"{age}, {name}!\")\n"
   ]
  },
  {
   "cell_type": "code",
   "execution_count": 5,
   "id": "647cd556",
   "metadata": {},
   "outputs": [
    {
     "name": "stdout",
     "output_type": "stream",
     "text": [
      "20, Daniel!\n"
     ]
    }
   ],
   "source": [
    "greet(age=20,name='Daniel')"
   ]
  },
  {
   "cell_type": "code",
   "execution_count": 6,
   "id": "3b0f32ef-a974-4c60-8136-1a9e734a9ad0",
   "metadata": {},
   "outputs": [],
   "source": [
    "def greet(name,age):\n",
    "    print(f' Hi {name} you are {age} years old')\n",
    "    "
   ]
  },
  {
   "cell_type": "code",
   "execution_count": 7,
   "id": "0fc7c2bc",
   "metadata": {},
   "outputs": [
    {
     "name": "stdout",
     "output_type": "stream",
     "text": [
      " Hi Sai you are 23 years old\n"
     ]
    }
   ],
   "source": [
    "greet(age=23,name=\"Sai\")"
   ]
  },
  {
   "cell_type": "markdown",
   "id": "9d25e4d2",
   "metadata": {},
   "source": [
    "# Default Argument "
   ]
  },
  {
   "cell_type": "code",
   "execution_count": 7,
   "id": "5b79fd38",
   "metadata": {},
   "outputs": [],
   "source": [
    "def greet(name,greetings=\"Hi\"):\n",
    "    print(f\" {greetings} {name} \")\n",
    "   "
   ]
  },
  {
   "cell_type": "code",
   "execution_count": 13,
   "id": "35fede38",
   "metadata": {},
   "outputs": [
    {
     "name": "stdout",
     "output_type": "stream",
     "text": [
      " Hi prakash \n"
     ]
    }
   ],
   "source": [
    "greet(\"prakash\")"
   ]
  },
  {
   "cell_type": "code",
   "execution_count": 87,
   "id": "0bb70865",
   "metadata": {},
   "outputs": [],
   "source": [
    "def greet_1(name,greetings):\n",
    "    print(f\"{greetings} {name}\")"
   ]
  },
  {
   "cell_type": "code",
   "execution_count": 88,
   "id": "11d0de98",
   "metadata": {},
   "outputs": [
    {
     "name": "stdout",
     "output_type": "stream",
     "text": [
      "Hi Bindu\n"
     ]
    }
   ],
   "source": [
    "greet_1('Bindu',\"Hi\")"
   ]
  },
  {
   "cell_type": "code",
   "execution_count": 89,
   "id": "15cdf52a",
   "metadata": {},
   "outputs": [
    {
     "name": "stdout",
     "output_type": "stream",
     "text": [
      " Hello prakash \n"
     ]
    }
   ],
   "source": [
    "greet(\"prakash\",'Hello')"
   ]
  },
  {
   "cell_type": "markdown",
   "id": "bea8138b",
   "metadata": {},
   "source": [
    "# Arbitrary Argument "
   ]
  },
  {
   "cell_type": "code",
   "execution_count": 9,
   "id": "900138dd",
   "metadata": {},
   "outputs": [],
   "source": [
    "def sum_num(*arg):\n",
    "    total=0\n",
    "    for num in arg:\n",
    "        total=total+num\n",
    "    return total"
   ]
  },
  {
   "cell_type": "code",
   "execution_count": 10,
   "id": "5eb860e8",
   "metadata": {},
   "outputs": [
    {
     "data": {
      "text/plain": [
       "3"
      ]
     },
     "execution_count": 10,
     "metadata": {},
     "output_type": "execute_result"
    }
   ],
   "source": [
    "sum_num(1,2)"
   ]
  },
  {
   "cell_type": "code",
   "execution_count": 12,
   "id": "4baac34a",
   "metadata": {},
   "outputs": [
    {
     "data": {
      "text/plain": [
       "887"
      ]
     },
     "execution_count": 12,
     "metadata": {},
     "output_type": "execute_result"
    }
   ],
   "source": [
    "sum_num(1,2,3,4,5,6,34,454,6,6,6,67,8,11,232,9,10,11,12)"
   ]
  },
  {
   "cell_type": "markdown",
   "id": "a054be92",
   "metadata": {},
   "source": [
    "# Key Word Arbitrary Argument "
   ]
  },
  {
   "cell_type": "code",
   "execution_count": 93,
   "id": "e7cf3f10",
   "metadata": {},
   "outputs": [],
   "source": [
    "def dis_info(**kwargs):\n",
    "    for key,value in kwargs.items():\n",
    "        print(f'{key} : {value}')"
   ]
  },
  {
   "cell_type": "code",
   "execution_count": 94,
   "id": "e544ac9e",
   "metadata": {},
   "outputs": [
    {
     "name": "stdout",
     "output_type": "stream",
     "text": [
      "name : Avinash\n",
      "age : 100\n",
      "city : bang\n"
     ]
    }
   ],
   "source": [
    "dis_info(name=\"Avinash\",age=100,city=\"bang\")"
   ]
  },
  {
   "cell_type": "code",
   "execution_count": 95,
   "id": "d543f35f",
   "metadata": {},
   "outputs": [
    {
     "name": "stdout",
     "output_type": "stream",
     "text": [
      "name : jinshi\n",
      "age : 10\n",
      "city : kerla\n",
      "phno : +10101\n"
     ]
    }
   ],
   "source": [
    "dis_info(name=\"jinshi\",age=10,city=\"kerla\",phno=\"+10101\")"
   ]
  },
  {
   "cell_type": "markdown",
   "id": "fcee7b86",
   "metadata": {},
   "source": [
    "# List"
   ]
  },
  {
   "cell_type": "code",
   "execution_count": 13,
   "id": "f6393bfa",
   "metadata": {},
   "outputs": [],
   "source": [
    "lst=[10,20,30,40,\"apple\",[50,60,70,80],90]"
   ]
  },
  {
   "cell_type": "code",
   "execution_count": 14,
   "id": "6448e1f3",
   "metadata": {},
   "outputs": [
    {
     "data": {
      "text/plain": [
       "[10, 20, 30, 40, 'apple', [50, 60, 70, 80], 90]"
      ]
     },
     "execution_count": 14,
     "metadata": {},
     "output_type": "execute_result"
    }
   ],
   "source": [
    "lst"
   ]
  },
  {
   "cell_type": "code",
   "execution_count": 16,
   "id": "19a84374",
   "metadata": {},
   "outputs": [
    {
     "data": {
      "text/plain": [
       "'l'"
      ]
     },
     "execution_count": 16,
     "metadata": {},
     "output_type": "execute_result"
    }
   ],
   "source": [
    "lst[4][3]"
   ]
  },
  {
   "cell_type": "code",
   "execution_count": 99,
   "id": "197dfe5a",
   "metadata": {},
   "outputs": [
    {
     "data": {
      "text/plain": [
       "'apple'"
      ]
     },
     "execution_count": 99,
     "metadata": {},
     "output_type": "execute_result"
    }
   ],
   "source": [
    "lst[4]"
   ]
  },
  {
   "cell_type": "code",
   "execution_count": 100,
   "id": "61b8d056",
   "metadata": {},
   "outputs": [],
   "source": [
    "lst_1=list(range(1,20))"
   ]
  },
  {
   "cell_type": "code",
   "execution_count": 101,
   "id": "6fcd0391",
   "metadata": {},
   "outputs": [
    {
     "data": {
      "text/plain": [
       "[1, 2, 3, 4, 5, 6, 7, 8, 9, 10, 11, 12, 13, 14, 15, 16, 17, 18, 19]"
      ]
     },
     "execution_count": 101,
     "metadata": {},
     "output_type": "execute_result"
    }
   ],
   "source": [
    "lst_1"
   ]
  },
  {
   "cell_type": "code",
   "execution_count": 102,
   "id": "dbfa282f",
   "metadata": {},
   "outputs": [],
   "source": [
    "lst.append(\"Orange\")"
   ]
  },
  {
   "cell_type": "code",
   "execution_count": 103,
   "id": "7c03dc45",
   "metadata": {},
   "outputs": [
    {
     "data": {
      "text/plain": [
       "[10, 20, 30, 40, 'apple', [50, 60, 70, 80], 90, 'Orange']"
      ]
     },
     "execution_count": 103,
     "metadata": {},
     "output_type": "execute_result"
    }
   ],
   "source": [
    "lst"
   ]
  },
  {
   "cell_type": "code",
   "execution_count": 104,
   "id": "dbbf1177",
   "metadata": {},
   "outputs": [],
   "source": [
    "lst.insert(5,60)"
   ]
  },
  {
   "cell_type": "code",
   "execution_count": 105,
   "id": "9ed14d07",
   "metadata": {},
   "outputs": [
    {
     "data": {
      "text/plain": [
       "[10, 20, 30, 40, 'apple', 60, [50, 60, 70, 80], 90, 'Orange']"
      ]
     },
     "execution_count": 105,
     "metadata": {},
     "output_type": "execute_result"
    }
   ],
   "source": [
    "lst"
   ]
  },
  {
   "cell_type": "code",
   "execution_count": 106,
   "id": "13a9add1",
   "metadata": {},
   "outputs": [
    {
     "data": {
      "text/plain": [
       "1"
      ]
     },
     "execution_count": 106,
     "metadata": {},
     "output_type": "execute_result"
    }
   ],
   "source": [
    "lst.count(60)"
   ]
  },
  {
   "cell_type": "code",
   "execution_count": 107,
   "id": "ff8d306b",
   "metadata": {},
   "outputs": [],
   "source": [
    "lst.reverse()"
   ]
  },
  {
   "cell_type": "code",
   "execution_count": 108,
   "id": "1398ade9",
   "metadata": {},
   "outputs": [
    {
     "data": {
      "text/plain": [
       "['Orange', 90, [50, 60, 70, 80], 60, 'apple', 40, 30, 20, 10]"
      ]
     },
     "execution_count": 108,
     "metadata": {},
     "output_type": "execute_result"
    }
   ],
   "source": [
    "lst"
   ]
  },
  {
   "cell_type": "markdown",
   "id": "b18d7568-0e42-4d57-9163-7ae449559177",
   "metadata": {},
   "source": [
    "### Tuple"
   ]
  },
  {
   "cell_type": "code",
   "execution_count": 109,
   "id": "a95ab63d-7470-416d-9b8a-3497eb775ae6",
   "metadata": {},
   "outputs": [],
   "source": [
    "tuple_1=(10,20,30,40,50,60,70,80,90)"
   ]
  },
  {
   "cell_type": "code",
   "execution_count": 110,
   "id": "c34d1fe0-995b-4cbf-917a-e6cc18bb63de",
   "metadata": {},
   "outputs": [
    {
     "data": {
      "text/plain": [
       "(10, 20, 30, 40, 50, 60, 70, 80, 90)"
      ]
     },
     "execution_count": 110,
     "metadata": {},
     "output_type": "execute_result"
    }
   ],
   "source": [
    "tuple_1"
   ]
  },
  {
   "cell_type": "markdown",
   "id": "a06a0f29-6e78-445b-a540-122fda726415",
   "metadata": {},
   "source": [
    "#### We can join two tuples:"
   ]
  },
  {
   "cell_type": "code",
   "execution_count": 19,
   "id": "8faaf4dc-c685-4be4-81ef-7dd6a801ef45",
   "metadata": {},
   "outputs": [],
   "source": [
    "tuple_2=(90,99,34,45,65,44,80,70,60,50,40,30,20,10)"
   ]
  },
  {
   "cell_type": "code",
   "execution_count": 20,
   "id": "4375bcf9",
   "metadata": {},
   "outputs": [],
   "source": [
    "tuple_1=99,34,45,65,44,80"
   ]
  },
  {
   "cell_type": "code",
   "execution_count": 21,
   "id": "2bcfa09e-2c5b-44cf-9f46-51410440f43c",
   "metadata": {},
   "outputs": [
    {
     "data": {
      "text/plain": [
       "(99,\n",
       " 34,\n",
       " 45,\n",
       " 65,\n",
       " 44,\n",
       " 80,\n",
       " 90,\n",
       " 99,\n",
       " 34,\n",
       " 45,\n",
       " 65,\n",
       " 44,\n",
       " 80,\n",
       " 70,\n",
       " 60,\n",
       " 50,\n",
       " 40,\n",
       " 30,\n",
       " 20,\n",
       " 10)"
      ]
     },
     "execution_count": 21,
     "metadata": {},
     "output_type": "execute_result"
    }
   ],
   "source": [
    "tuple_1+tuple_2 "
   ]
  },
  {
   "cell_type": "code",
   "execution_count": 113,
   "id": "896d0b96-4dca-40c5-b385-8888f0c22410",
   "metadata": {},
   "outputs": [
    {
     "data": {
      "text/plain": [
       "(10, 20, 30, 40, 50, 60, 70, 80, 90)"
      ]
     },
     "execution_count": 113,
     "metadata": {},
     "output_type": "execute_result"
    }
   ],
   "source": [
    "tuple_1"
   ]
  },
  {
   "cell_type": "code",
   "execution_count": 114,
   "id": "2afb597c-26cf-4b66-9364-df9228f27b33",
   "metadata": {},
   "outputs": [
    {
     "data": {
      "text/plain": [
       "0"
      ]
     },
     "execution_count": 114,
     "metadata": {},
     "output_type": "execute_result"
    }
   ],
   "source": [
    "tuple_1.count(3)"
   ]
  },
  {
   "cell_type": "code",
   "execution_count": 115,
   "id": "55b65729-3995-4f5e-8c5a-eacad49f19d0",
   "metadata": {},
   "outputs": [
    {
     "data": {
      "text/plain": [
       "1"
      ]
     },
     "execution_count": 115,
     "metadata": {},
     "output_type": "execute_result"
    }
   ],
   "source": [
    "tuple_1.index(20)"
   ]
  },
  {
   "cell_type": "markdown",
   "id": "9af2dadf-8de2-41b2-8abb-e7b6e2295be3",
   "metadata": {},
   "source": [
    "### Set"
   ]
  },
  {
   "cell_type": "code",
   "execution_count": 116,
   "id": "1e7dcc81-9578-4271-9822-679d99c23efb",
   "metadata": {},
   "outputs": [],
   "source": [
    "set={}"
   ]
  },
  {
   "cell_type": "code",
   "execution_count": 117,
   "id": "a8f7b499-0614-4e7b-8f67-14298fd2a6fc",
   "metadata": {
    "scrolled": true
   },
   "outputs": [
    {
     "data": {
      "text/plain": [
       "{}"
      ]
     },
     "execution_count": 117,
     "metadata": {},
     "output_type": "execute_result"
    }
   ],
   "source": [
    "set"
   ]
  },
  {
   "cell_type": "code",
   "execution_count": 118,
   "id": "653708e2-2950-4096-8878-33a9b342a187",
   "metadata": {},
   "outputs": [],
   "source": [
    "set={10,20,30,40,(10,20,30,40),3.4555,\"Tuple\"}"
   ]
  },
  {
   "cell_type": "code",
   "execution_count": null,
   "id": "a05d6941-822b-4703-9769-cea7cf9ecfb5",
   "metadata": {},
   "outputs": [],
   "source": []
  },
  {
   "cell_type": "code",
   "execution_count": 119,
   "id": "f9e4a036-6a22-435a-b749-3d5e63af8a53",
   "metadata": {},
   "outputs": [
    {
     "data": {
      "text/plain": [
       "{(10, 20, 30, 40), 10, 20, 2003, 3.4555, 30, 40, 'Tuple'}"
      ]
     },
     "execution_count": 119,
     "metadata": {},
     "output_type": "execute_result"
    }
   ],
   "source": [
    "set.add(2003)\n",
    "set"
   ]
  },
  {
   "cell_type": "code",
   "execution_count": 120,
   "id": "239de7d6-1278-437f-9278-2db2c8164411",
   "metadata": {},
   "outputs": [],
   "source": [
    "set_1=set.copy()"
   ]
  },
  {
   "cell_type": "code",
   "execution_count": 121,
   "id": "20da4e75-8ffb-4402-b2ac-adc77ea11c3d",
   "metadata": {},
   "outputs": [
    {
     "data": {
      "text/plain": [
       "{(10, 20, 30, 40), 10, 20, 2003, 3.4555, 30, 40, 'Tuple'}"
      ]
     },
     "execution_count": 121,
     "metadata": {},
     "output_type": "execute_result"
    }
   ],
   "source": [
    "set_1"
   ]
  },
  {
   "cell_type": "code",
   "execution_count": 122,
   "id": "7b0568f6-ec27-4b9d-af21-4396b9885ace",
   "metadata": {},
   "outputs": [
    {
     "data": {
      "text/plain": [
       "{(10, 20, 30, 40), 10, 20, 2003}"
      ]
     },
     "execution_count": 122,
     "metadata": {},
     "output_type": "execute_result"
    }
   ],
   "source": [
    "set_2={(10, 20, 30, 40), 10, 20, 2003}\n",
    "set_2"
   ]
  },
  {
   "cell_type": "code",
   "execution_count": 123,
   "id": "9eeaa8c1-908b-4755-9fb5-94d67153c928",
   "metadata": {},
   "outputs": [],
   "source": [
    "set_3=set_1.difference(set_2)"
   ]
  },
  {
   "cell_type": "code",
   "execution_count": 124,
   "id": "c2f7e651-ac83-4c5a-9d7f-1654d0aceddb",
   "metadata": {},
   "outputs": [
    {
     "data": {
      "text/plain": [
       "{3.4555, 30, 40, 'Tuple'}"
      ]
     },
     "execution_count": 124,
     "metadata": {},
     "output_type": "execute_result"
    }
   ],
   "source": [
    "set_3"
   ]
  },
  {
   "cell_type": "code",
   "execution_count": 125,
   "id": "4c59aa4b-caf3-45bc-8509-27da9155dbb8",
   "metadata": {},
   "outputs": [
    {
     "data": {
      "text/plain": [
       "{(10, 20, 30, 40), 10, 20, 2003, 3.4555, 30, 40, 'Tuple'}"
      ]
     },
     "execution_count": 125,
     "metadata": {},
     "output_type": "execute_result"
    }
   ],
   "source": [
    "set_union=set_3.union(set_2)\n",
    "set_union"
   ]
  },
  {
   "cell_type": "code",
   "execution_count": 126,
   "id": "99912f9e-149b-4c75-bffd-565a4c0321a1",
   "metadata": {},
   "outputs": [],
   "source": [
    "set_1.discard((10, 20, 30, 40))"
   ]
  },
  {
   "cell_type": "code",
   "execution_count": 127,
   "id": "be12c52e-8e7b-49b9-92c6-fad78ff15592",
   "metadata": {},
   "outputs": [
    {
     "data": {
      "text/plain": [
       "{10, 20, 2003, 3.4555, 30, 40, 'Tuple'}"
      ]
     },
     "execution_count": 127,
     "metadata": {},
     "output_type": "execute_result"
    }
   ],
   "source": [
    "set_1"
   ]
  },
  {
   "cell_type": "markdown",
   "id": "307550a8-cb65-48c2-ba74-26b0b1070b0f",
   "metadata": {},
   "source": [
    "### Dictionary:"
   ]
  },
  {
   "cell_type": "code",
   "execution_count": 23,
   "id": "a3e82d40-e64e-4a5d-85f3-b83763d31d68",
   "metadata": {},
   "outputs": [],
   "source": [
    "dict={\"name\":\"SaidevaGoud Nathi\",\"Age\":24}"
   ]
  },
  {
   "cell_type": "code",
   "execution_count": 24,
   "id": "d307a071-2b21-49ca-86dd-9d2596727eff",
   "metadata": {},
   "outputs": [
    {
     "data": {
      "text/plain": [
       "'SaidevaGoud Nathi'"
      ]
     },
     "execution_count": 24,
     "metadata": {},
     "output_type": "execute_result"
    }
   ],
   "source": [
    "dict.get(\"name\")"
   ]
  },
  {
   "cell_type": "code",
   "execution_count": 25,
   "id": "32e83e85-4e52-4656-9222-e98ee5224df0",
   "metadata": {},
   "outputs": [
    {
     "data": {
      "text/plain": [
       "('Age', 24)"
      ]
     },
     "execution_count": 25,
     "metadata": {},
     "output_type": "execute_result"
    }
   ],
   "source": [
    "dict.popitem()"
   ]
  },
  {
   "cell_type": "code",
   "execution_count": 26,
   "id": "c6a04e43-7298-4095-857b-d747c70ddacb",
   "metadata": {},
   "outputs": [
    {
     "data": {
      "text/plain": [
       "dict_values(['SaidevaGoud Nathi'])"
      ]
     },
     "execution_count": 26,
     "metadata": {},
     "output_type": "execute_result"
    }
   ],
   "source": [
    "dict.values()"
   ]
  },
  {
   "cell_type": "code",
   "execution_count": 27,
   "id": "21a3cb05-456c-4412-9249-a85ac79c475a",
   "metadata": {},
   "outputs": [
    {
     "ename": "TypeError",
     "evalue": "'dict' object is not callable",
     "output_type": "error",
     "traceback": [
      "\u001b[0;31m---------------------------------------------------------------------------\u001b[0m",
      "\u001b[0;31mTypeError\u001b[0m                                 Traceback (most recent call last)",
      "Cell \u001b[0;32mIn[27], line 1\u001b[0m\n\u001b[0;32m----> 1\u001b[0m d \u001b[38;5;241m=\u001b[39m \u001b[38;5;28mdict\u001b[39m()\n",
      "\u001b[0;31mTypeError\u001b[0m: 'dict' object is not callable"
     ]
    }
   ],
   "source": [
    "d = dict()"
   ]
  },
  {
   "cell_type": "markdown",
   "id": "dffac95e",
   "metadata": {},
   "source": [
    "# as we can see dict is not callable..\n"
   ]
  },
  {
   "cell_type": "code",
   "execution_count": null,
   "id": "ca9b3ac6-5b13-41c2-93eb-b8e81154635a",
   "metadata": {},
   "outputs": [],
   "source": []
  },
  {
   "cell_type": "code",
   "execution_count": null,
   "id": "956bc68f-0b59-4d64-89a7-16614e3f5c0a",
   "metadata": {},
   "outputs": [],
   "source": []
  },
  {
   "cell_type": "code",
   "execution_count": null,
   "id": "522e4219-4bc6-457f-a24f-e1a39239e4d6",
   "metadata": {},
   "outputs": [],
   "source": []
  },
  {
   "cell_type": "code",
   "execution_count": null,
   "id": "fb8d5ff7-51bc-4656-af96-5aa37af81448",
   "metadata": {},
   "outputs": [],
   "source": []
  },
  {
   "cell_type": "code",
   "execution_count": null,
   "id": "6d719a6d-4d1e-4787-bba0-2f8e0fb462ea",
   "metadata": {},
   "outputs": [],
   "source": []
  },
  {
   "cell_type": "code",
   "execution_count": null,
   "id": "2a9c81ed-54f0-4fe0-9c2a-ebb9d2a68696",
   "metadata": {},
   "outputs": [],
   "source": []
  },
  {
   "cell_type": "code",
   "execution_count": null,
   "id": "a88dd0a4-b652-494f-9ba0-55df519520f5",
   "metadata": {},
   "outputs": [],
   "source": []
  },
  {
   "cell_type": "code",
   "execution_count": null,
   "id": "e21d7637-6d7e-4cdf-9d5c-2ed0da349bac",
   "metadata": {},
   "outputs": [],
   "source": []
  },
  {
   "cell_type": "code",
   "execution_count": null,
   "id": "b9927a68-bc8b-4bb0-8f39-62aab6fdf45c",
   "metadata": {},
   "outputs": [],
   "source": []
  },
  {
   "cell_type": "code",
   "execution_count": null,
   "id": "115c3afc-d2df-4a9d-bae2-543f46b5fc24",
   "metadata": {},
   "outputs": [],
   "source": []
  },
  {
   "cell_type": "code",
   "execution_count": null,
   "id": "b4f47863-8f33-48fa-9c11-e43389cd035c",
   "metadata": {},
   "outputs": [],
   "source": []
  },
  {
   "cell_type": "markdown",
   "id": "b68f9f10",
   "metadata": {},
   "source": [
    " "
   ]
  }
 ],
 "metadata": {
  "kernelspec": {
   "display_name": "Python 3 (ipykernel)",
   "language": "python",
   "name": "python3"
  },
  "language_info": {
   "codemirror_mode": {
    "name": "ipython",
    "version": 3
   },
   "file_extension": ".py",
   "mimetype": "text/x-python",
   "name": "python",
   "nbconvert_exporter": "python",
   "pygments_lexer": "ipython3",
   "version": "3.11.5"
  }
 },
 "nbformat": 4,
 "nbformat_minor": 5
}
