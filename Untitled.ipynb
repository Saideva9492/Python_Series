{
 "cells": [
  {
   "cell_type": "code",
   "execution_count": 3,
   "id": "838a8a1d-81e1-43c7-a8ff-e42fbae7edaa",
   "metadata": {},
   "outputs": [
    {
     "name": "stdout",
     "output_type": "stream",
     "text": [
      "Hello World\n"
     ]
    }
   ],
   "source": [
    "# Concatenation:\n",
    "\n",
    "# Concatenating strings\n",
    "s1 = \"Hello\"\n",
    "s2 = \"World\"\n",
    "concatenated = s1 + \" \" + s2\n",
    "print(concatenated)  # Output: Hello World\n",
    "\n",
    "\n"
   ]
  },
  {
   "cell_type": "code",
   "execution_count": 4,
   "id": "6c065dd2-05ed-4307-9e79-40ec20ec2e2e",
   "metadata": {},
   "outputs": [
    {
     "name": "stdout",
     "output_type": "stream",
     "text": [
      "'how' found in 'Hello, how are you?'\n"
     ]
    }
   ],
   "source": [
    "# Substring Check:\n",
    "# Checking if a substring exists in a string\n",
    "text = \"Hello, how are you?\"\n",
    "substring = \"how\"\n",
    "if substring in text:\n",
    "    print(f\"'{substring}' found in '{text}'\")\n",
    "else:\n",
    "    print(f\"'{substring}' not found in '{text}'\")\n"
   ]
  },
  {
   "cell_type": "code",
   "execution_count": 6,
   "id": "62297996-e284-4c5d-9b42-35903eab0edc",
   "metadata": {},
   "outputs": [
    {
     "name": "stdout",
     "output_type": "stream",
     "text": [
      "Length of 'Python' is 6\n"
     ]
    }
   ],
   "source": [
    "# String Length:\n",
    "\n",
    "# Finding the length of a string\n",
    "s = \"Python\"\n",
    "length = len(s)\n",
    "print(f\"Length of '{s}' is {length}\")\n"
   ]
  },
  {
   "cell_type": "code",
   "execution_count": 7,
   "id": "eb5beaa4-d137-4e61-b944-4ace12361bc1",
   "metadata": {},
   "outputs": [
    {
     "name": "stdout",
     "output_type": "stream",
     "text": [
      "Python\n",
      "Programming\n"
     ]
    }
   ],
   "source": [
    "# String Slicing:\n",
    "\n",
    "# Slicing a string\n",
    "s = \"Python Programming\"\n",
    "slice1 = s[0:6]  # Start at index 0, end at index 5 (exclusive)\n",
    "slice2 = s[7:]   # Start at index 7 till the end of the string\n",
    "print(slice1)    # Output: Python\n",
    "print(slice2)    # Output: Programming\n"
   ]
  },
  {
   "cell_type": "code",
   "execution_count": 9,
   "id": "2da26745-da18-4105-b575-6fb1daa4c72d",
   "metadata": {},
   "outputs": [
    {
     "name": "stdout",
     "output_type": "stream",
     "text": [
      "My name is Alice and I am 30 years old.\n"
     ]
    }
   ],
   "source": [
    "# String Formatting:\n",
    "\n",
    "# String formatting\n",
    "name = \"Alice\"\n",
    "age = 30\n",
    "formatted_string = f\"My name is {name} and I am {age} years old.\"\n",
    "print(formatted_string)\n",
    "\n",
    "\n"
   ]
  },
  {
   "cell_type": "code",
   "execution_count": 11,
   "id": "eed43d9d-d04b-4a3c-9ec3-7d390dc83c2e",
   "metadata": {},
   "outputs": [
    {
     "name": "stdout",
     "output_type": "stream",
     "text": [
      "['This', 'is', 'a', 'sentence.']\n",
      "This is a sentence.\n"
     ]
    }
   ],
   "source": [
    "# String Splitting and Joining:\n",
    "\n",
    "# Splitting and joining strings\n",
    "sentence = \"This is a sentence.\"\n",
    "words = sentence.split()   # Split into list of words\n",
    "joined_sentence = ' '.join(words)  # Join list of words into a single string\n",
    "print(words)\n",
    "print(joined_sentence)"
   ]
  },
  {
   "cell_type": "code",
   "execution_count": 12,
   "id": "cd0abba0-2783-48a0-95be-099d1ff8ae5f",
   "metadata": {},
   "outputs": [
    {
     "name": "stdout",
     "output_type": "stream",
     "text": [
      "Hello, World!\n",
      "   hello, world!   \n",
      "   HELLO, WORLD!   \n",
      "   Hi, World!   \n"
     ]
    }
   ],
   "source": [
    "# String Methods:\n",
    "\n",
    "# Example of string methods\n",
    "s = \"   Hello, World!   \"\n",
    "stripped = s.strip()     # Remove leading and trailing whitespace\n",
    "lowercased = s.lower()   # Convert to lowercase\n",
    "uppercased = s.upper()   # Convert to uppercase\n",
    "replaced = s.replace('Hello', 'Hi')  # Replace 'Hello' with 'Hi'\n",
    "print(stripped)\n",
    "print(lowercased)\n",
    "print(uppercased)\n",
    "print(replaced)"
   ]
  },
  {
   "cell_type": "code",
   "execution_count": null,
   "id": "115fb31f-ee67-4188-8587-29da4deb7fc9",
   "metadata": {},
   "outputs": [],
   "source": []
  }
 ],
 "metadata": {
  "kernelspec": {
   "display_name": "Python 3 (ipykernel)",
   "language": "python",
   "name": "python3"
  },
  "language_info": {
   "codemirror_mode": {
    "name": "ipython",
    "version": 3
   },
   "file_extension": ".py",
   "mimetype": "text/x-python",
   "name": "python",
   "nbconvert_exporter": "python",
   "pygments_lexer": "ipython3",
   "version": "3.12.4"
  }
 },
 "nbformat": 4,
 "nbformat_minor": 5
}
